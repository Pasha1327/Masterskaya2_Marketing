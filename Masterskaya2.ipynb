{
 "cells": [
  {
   "cell_type": "markdown",
   "id": "d4c648bb-a3bc-4e21-b48e-6049d7b198fa",
   "metadata": {},
   "source": [
    "# Описание проекта: Маркетинг  \n",
    "  \n",
    "Интернет-магазин собирает историю покупателей, проводит рассылки предложений и планирует будущие продажи. \n",
    "Для оптимизации процессов надо выделить пользователей, которые готовы совершить покупку в ближайшее время.  \n",
    "\n",
    "# Цель проекта  \n",
    "  \n",
    "Нам предстоит выполнить инженеринг признаков, обучить и оптимизировать модель бинарной классификации, которая предскажет вероятность совершения покупки пользователем в течение 90 дней.  \n",
    "\n",
    "# Краткий план действий  \n",
    "- Импортировать необходимые библиотеки, загрузить и изучить данные.\n",
    "- Разработать новые полезные признаки.\n",
    "- Создать модель для классификации пользователей.\n",
    "- Улучшить модель и максимизировать метрику roc_auc.\n",
    "- Выполнить тестирование.\n",
    "\n",
    "# Описание данных  \n",
    "\n",
    "1. **apparel-purchases:**  \n",
    "● **client_id** - идентификатор клиента  \n",
    "● **quantity** - количество единиц товара  \n",
    "● **price** - цена товара  \n",
    "● **category_ids** - идентификаторы категорий  \n",
    "● **date** - дата покупки  \n",
    "● **message_id** - идентификатор сообщения из рассылки  \n",
    "\n",
    "2. **apparel-messages:**  \n",
    "● **bulk_campaign_id** - идентификатор рассылки  \n",
    "● **client_id** - идентификатор клиента  \n",
    "● **message_id** - идентификатор сообщения  \n",
    "● **event** - действие с сообщением (отправлено, открыто, покупка…)  \n",
    "● **channel** - канал рассылки  \n",
    "● **date дата** - действия  \n",
    "● **created_at** - дата-время полностью  \n",
    "  \n",
    "3. **apparel-target_binary(совершит ли клиент покупку в течение следующих 90 дней):**  \n",
    "● **client_id** - идентификатор клиента  \n",
    "● **target** - целевой признак "
   ]
  },
  {
   "cell_type": "markdown",
   "id": "0ed62207-ff2f-4f0c-8d33-118125bc0371",
   "metadata": {},
   "source": [
    "## 1. Импортируем данные"
   ]
  },
  {
   "cell_type": "code",
   "execution_count": 1,
   "id": "1d68c2e7-5105-4bdb-9243-e468402be7d6",
   "metadata": {},
   "outputs": [],
   "source": [
    "!pip install phik -q\n",
    "!pip install shap -q"
   ]
  },
  {
   "cell_type": "code",
   "execution_count": 2,
   "id": "46108a92-16f4-4467-b041-a871f8f363bc",
   "metadata": {},
   "outputs": [],
   "source": [
    "import pandas as pd\n",
    "import numpy as np\n",
    "import matplotlib.pyplot as plt\n",
    "import seaborn as sns\n",
    "import sklearn\n",
    "import phik\n",
    "from phik import phik_matrix\n",
    "import shap\n",
    "\n",
    "from sklearn.model_selection import train_test_split, RandomizedSearchCV, GridSearchCV\n",
    "from optuna.integration import OptunaSearchCV\n",
    "from sklearn.linear_model import LogisticRegression, LinearRegression\n",
    "from sklearn.preprocessing import OneHotEncoder, OrdinalEncoder, StandardScaler, MinMaxScaler, LabelEncoder\n",
    "from sklearn.tree import DecisionTreeClassifier, DecisionTreeRegressor\n",
    "from sklearn.neighbors import KNeighborsClassifier\n",
    "import lightgbm\n",
    "from lightgbm import LGBMClassifier\n",
    "from catboost import CatBoostClassifier\n",
    "from sklearn.metrics import roc_auc_score, accuracy_score, confusion_matrix, make_scorer\n",
    "from sklearn.pipeline import Pipeline\n",
    "from sklearn.compose import ColumnTransformer\n",
    "from sklearn.impute import SimpleImputer"
   ]
  },
  {
   "cell_type": "code",
   "execution_count": 3,
   "id": "1f20fbc4-e3dc-4c52-9e8b-bb477036d92c",
   "metadata": {},
   "outputs": [],
   "source": [
    "RANDOM_STATE = 42\n",
    "TEST_SIZE = 0.2"
   ]
  },
  {
   "cell_type": "markdown",
   "id": "a6e4c3ee-1037-49c2-afa4-535f2281ab9d",
   "metadata": {},
   "source": [
    "## 2. Загрузим и изучим данные"
   ]
  },
  {
   "cell_type": "code",
   "execution_count": 4,
   "id": "d8241884-731f-4f02-846d-df4ba6828630",
   "metadata": {},
   "outputs": [],
   "source": [
    "df_purchases = pd.read_csv('D:/JupyterNotebook/datasets/filtered_data/apparel-purchases.csv')\n",
    "df_messages = pd.read_csv('D:/JupyterNotebook/datasets/filtered_data/apparel-messages.csv')\n",
    "df_target = pd.read_csv('D:/JupyterNotebook/datasets/filtered_data/apparel-target_binary.csv')"
   ]
  },
  {
   "cell_type": "code",
   "execution_count": 5,
   "id": "fc7d09a3-976d-4f12-aa27-b764898e8932",
   "metadata": {},
   "outputs": [
    {
     "name": "stdout",
     "output_type": "stream",
     "text": [
      "<class 'pandas.core.frame.DataFrame'>\n",
      "RangeIndex: 202208 entries, 0 to 202207\n",
      "Data columns (total 6 columns):\n",
      " #   Column        Non-Null Count   Dtype  \n",
      "---  ------        --------------   -----  \n",
      " 0   client_id     202208 non-null  int64  \n",
      " 1   quantity      202208 non-null  int64  \n",
      " 2   price         202208 non-null  float64\n",
      " 3   category_ids  202208 non-null  object \n",
      " 4   date          202208 non-null  object \n",
      " 5   message_id    202208 non-null  object \n",
      "dtypes: float64(1), int64(2), object(3)\n",
      "memory usage: 9.3+ MB\n"
     ]
    },
    {
     "data": {
      "text/plain": [
       "None"
      ]
     },
     "metadata": {},
     "output_type": "display_data"
    },
    {
     "data": {
      "text/html": [
       "<div>\n",
       "<style scoped>\n",
       "    .dataframe tbody tr th:only-of-type {\n",
       "        vertical-align: middle;\n",
       "    }\n",
       "\n",
       "    .dataframe tbody tr th {\n",
       "        vertical-align: top;\n",
       "    }\n",
       "\n",
       "    .dataframe thead th {\n",
       "        text-align: right;\n",
       "    }\n",
       "</style>\n",
       "<table border=\"1\" class=\"dataframe\">\n",
       "  <thead>\n",
       "    <tr style=\"text-align: right;\">\n",
       "      <th></th>\n",
       "      <th>client_id</th>\n",
       "      <th>quantity</th>\n",
       "      <th>price</th>\n",
       "      <th>category_ids</th>\n",
       "      <th>date</th>\n",
       "      <th>message_id</th>\n",
       "    </tr>\n",
       "  </thead>\n",
       "  <tbody>\n",
       "    <tr>\n",
       "      <th>0</th>\n",
       "      <td>1515915625468169594</td>\n",
       "      <td>1</td>\n",
       "      <td>1999.0</td>\n",
       "      <td>['4', '28', '57', '431']</td>\n",
       "      <td>2022-05-16</td>\n",
       "      <td>1515915625468169594-4301-627b661e9736d</td>\n",
       "    </tr>\n",
       "    <tr>\n",
       "      <th>1</th>\n",
       "      <td>1515915625468169594</td>\n",
       "      <td>1</td>\n",
       "      <td>2499.0</td>\n",
       "      <td>['4', '28', '57', '431']</td>\n",
       "      <td>2022-05-16</td>\n",
       "      <td>1515915625468169594-4301-627b661e9736d</td>\n",
       "    </tr>\n",
       "    <tr>\n",
       "      <th>2</th>\n",
       "      <td>1515915625471138230</td>\n",
       "      <td>1</td>\n",
       "      <td>6499.0</td>\n",
       "      <td>['4', '28', '57', '431']</td>\n",
       "      <td>2022-05-16</td>\n",
       "      <td>1515915625471138230-4437-6282242f27843</td>\n",
       "    </tr>\n",
       "    <tr>\n",
       "      <th>3</th>\n",
       "      <td>1515915625471138230</td>\n",
       "      <td>1</td>\n",
       "      <td>4999.0</td>\n",
       "      <td>['4', '28', '244', '432']</td>\n",
       "      <td>2022-05-16</td>\n",
       "      <td>1515915625471138230-4437-6282242f27843</td>\n",
       "    </tr>\n",
       "    <tr>\n",
       "      <th>4</th>\n",
       "      <td>1515915625471138230</td>\n",
       "      <td>1</td>\n",
       "      <td>4999.0</td>\n",
       "      <td>['4', '28', '49', '413']</td>\n",
       "      <td>2022-05-16</td>\n",
       "      <td>1515915625471138230-4437-6282242f27843</td>\n",
       "    </tr>\n",
       "    <tr>\n",
       "      <th>5</th>\n",
       "      <td>1515915625471640575</td>\n",
       "      <td>1</td>\n",
       "      <td>3499.0</td>\n",
       "      <td>['2', '18', '258', '441']</td>\n",
       "      <td>2022-05-16</td>\n",
       "      <td>1515915625471640575-4301-627b661b67ac3</td>\n",
       "    </tr>\n",
       "    <tr>\n",
       "      <th>6</th>\n",
       "      <td>1515915625490211585</td>\n",
       "      <td>1</td>\n",
       "      <td>1699.0</td>\n",
       "      <td>['2', '18', '341', '1311']</td>\n",
       "      <td>2022-05-16</td>\n",
       "      <td>1515915625490211585-4301-627b661843283</td>\n",
       "    </tr>\n",
       "    <tr>\n",
       "      <th>7</th>\n",
       "      <td>1515915625490739153</td>\n",
       "      <td>1</td>\n",
       "      <td>1999.0</td>\n",
       "      <td>['2', '18', '123', '451']</td>\n",
       "      <td>2022-05-16</td>\n",
       "      <td>1515915625490739153-4172-626b943cc789b</td>\n",
       "    </tr>\n",
       "    <tr>\n",
       "      <th>8</th>\n",
       "      <td>1515915625491478747</td>\n",
       "      <td>1</td>\n",
       "      <td>999.0</td>\n",
       "      <td>['5562', '5631', '5549', '667']</td>\n",
       "      <td>2022-05-16</td>\n",
       "      <td>1515915625491478747-4273-6274ceb769d59</td>\n",
       "    </tr>\n",
       "    <tr>\n",
       "      <th>9</th>\n",
       "      <td>1515915625491651493</td>\n",
       "      <td>1</td>\n",
       "      <td>699.0</td>\n",
       "      <td>['5562', '5630', '5649', '678']</td>\n",
       "      <td>2022-05-16</td>\n",
       "      <td>1515915625491651493-4437-6282242f2a9e2</td>\n",
       "    </tr>\n",
       "  </tbody>\n",
       "</table>\n",
       "</div>"
      ],
      "text/plain": [
       "             client_id  quantity   price                     category_ids  \\\n",
       "0  1515915625468169594         1  1999.0         ['4', '28', '57', '431']   \n",
       "1  1515915625468169594         1  2499.0         ['4', '28', '57', '431']   \n",
       "2  1515915625471138230         1  6499.0         ['4', '28', '57', '431']   \n",
       "3  1515915625471138230         1  4999.0        ['4', '28', '244', '432']   \n",
       "4  1515915625471138230         1  4999.0         ['4', '28', '49', '413']   \n",
       "5  1515915625471640575         1  3499.0        ['2', '18', '258', '441']   \n",
       "6  1515915625490211585         1  1699.0       ['2', '18', '341', '1311']   \n",
       "7  1515915625490739153         1  1999.0        ['2', '18', '123', '451']   \n",
       "8  1515915625491478747         1   999.0  ['5562', '5631', '5549', '667']   \n",
       "9  1515915625491651493         1   699.0  ['5562', '5630', '5649', '678']   \n",
       "\n",
       "         date                              message_id  \n",
       "0  2022-05-16  1515915625468169594-4301-627b661e9736d  \n",
       "1  2022-05-16  1515915625468169594-4301-627b661e9736d  \n",
       "2  2022-05-16  1515915625471138230-4437-6282242f27843  \n",
       "3  2022-05-16  1515915625471138230-4437-6282242f27843  \n",
       "4  2022-05-16  1515915625471138230-4437-6282242f27843  \n",
       "5  2022-05-16  1515915625471640575-4301-627b661b67ac3  \n",
       "6  2022-05-16  1515915625490211585-4301-627b661843283  \n",
       "7  2022-05-16  1515915625490739153-4172-626b943cc789b  \n",
       "8  2022-05-16  1515915625491478747-4273-6274ceb769d59  \n",
       "9  2022-05-16  1515915625491651493-4437-6282242f2a9e2  "
      ]
     },
     "execution_count": 5,
     "metadata": {},
     "output_type": "execute_result"
    }
   ],
   "source": [
    "display(df_purchases.info())\n",
    "df_purchases.head(10)"
   ]
  },
  {
   "cell_type": "code",
   "execution_count": 6,
   "id": "ae901867-6dd4-45b5-9adf-d05f8f6260cb",
   "metadata": {},
   "outputs": [
    {
     "name": "stdout",
     "output_type": "stream",
     "text": [
      "<class 'pandas.core.frame.DataFrame'>\n",
      "RangeIndex: 12739798 entries, 0 to 12739797\n",
      "Data columns (total 7 columns):\n",
      " #   Column            Dtype \n",
      "---  ------            ----- \n",
      " 0   bulk_campaign_id  int64 \n",
      " 1   client_id         int64 \n",
      " 2   message_id        object\n",
      " 3   event             object\n",
      " 4   channel           object\n",
      " 5   date              object\n",
      " 6   created_at        object\n",
      "dtypes: int64(2), object(5)\n",
      "memory usage: 680.4+ MB\n"
     ]
    },
    {
     "data": {
      "text/plain": [
       "None"
      ]
     },
     "metadata": {},
     "output_type": "display_data"
    },
    {
     "data": {
      "text/html": [
       "<div>\n",
       "<style scoped>\n",
       "    .dataframe tbody tr th:only-of-type {\n",
       "        vertical-align: middle;\n",
       "    }\n",
       "\n",
       "    .dataframe tbody tr th {\n",
       "        vertical-align: top;\n",
       "    }\n",
       "\n",
       "    .dataframe thead th {\n",
       "        text-align: right;\n",
       "    }\n",
       "</style>\n",
       "<table border=\"1\" class=\"dataframe\">\n",
       "  <thead>\n",
       "    <tr style=\"text-align: right;\">\n",
       "      <th></th>\n",
       "      <th>bulk_campaign_id</th>\n",
       "      <th>client_id</th>\n",
       "      <th>message_id</th>\n",
       "      <th>event</th>\n",
       "      <th>channel</th>\n",
       "      <th>date</th>\n",
       "      <th>created_at</th>\n",
       "    </tr>\n",
       "  </thead>\n",
       "  <tbody>\n",
       "    <tr>\n",
       "      <th>0</th>\n",
       "      <td>4439</td>\n",
       "      <td>1515915625626736623</td>\n",
       "      <td>1515915625626736623-4439-6283415ac07ea</td>\n",
       "      <td>open</td>\n",
       "      <td>email</td>\n",
       "      <td>2022-05-19</td>\n",
       "      <td>2022-05-19 00:14:20</td>\n",
       "    </tr>\n",
       "    <tr>\n",
       "      <th>1</th>\n",
       "      <td>4439</td>\n",
       "      <td>1515915625490086521</td>\n",
       "      <td>1515915625490086521-4439-62834150016dd</td>\n",
       "      <td>open</td>\n",
       "      <td>email</td>\n",
       "      <td>2022-05-19</td>\n",
       "      <td>2022-05-19 00:39:34</td>\n",
       "    </tr>\n",
       "    <tr>\n",
       "      <th>2</th>\n",
       "      <td>4439</td>\n",
       "      <td>1515915625553578558</td>\n",
       "      <td>1515915625553578558-4439-6283415b36b4f</td>\n",
       "      <td>open</td>\n",
       "      <td>email</td>\n",
       "      <td>2022-05-19</td>\n",
       "      <td>2022-05-19 00:51:49</td>\n",
       "    </tr>\n",
       "    <tr>\n",
       "      <th>3</th>\n",
       "      <td>4439</td>\n",
       "      <td>1515915625553578558</td>\n",
       "      <td>1515915625553578558-4439-6283415b36b4f</td>\n",
       "      <td>click</td>\n",
       "      <td>email</td>\n",
       "      <td>2022-05-19</td>\n",
       "      <td>2022-05-19 00:52:20</td>\n",
       "    </tr>\n",
       "    <tr>\n",
       "      <th>4</th>\n",
       "      <td>4439</td>\n",
       "      <td>1515915625471518311</td>\n",
       "      <td>1515915625471518311-4439-628341570c133</td>\n",
       "      <td>open</td>\n",
       "      <td>email</td>\n",
       "      <td>2022-05-19</td>\n",
       "      <td>2022-05-19 00:56:52</td>\n",
       "    </tr>\n",
       "    <tr>\n",
       "      <th>5</th>\n",
       "      <td>4439</td>\n",
       "      <td>1515915625594606468</td>\n",
       "      <td>1515915625594606468-4439-6283411f277fc</td>\n",
       "      <td>open</td>\n",
       "      <td>email</td>\n",
       "      <td>2022-05-19</td>\n",
       "      <td>2022-05-19 01:04:11</td>\n",
       "    </tr>\n",
       "    <tr>\n",
       "      <th>6</th>\n",
       "      <td>4439</td>\n",
       "      <td>1515915625491810918</td>\n",
       "      <td>1515915625491810918-4439-6283411d9d299</td>\n",
       "      <td>open</td>\n",
       "      <td>email</td>\n",
       "      <td>2022-05-19</td>\n",
       "      <td>2022-05-19 01:19:54</td>\n",
       "    </tr>\n",
       "    <tr>\n",
       "      <th>7</th>\n",
       "      <td>4439</td>\n",
       "      <td>1515915625474219766</td>\n",
       "      <td>1515915625474219766-4439-628341212233a</td>\n",
       "      <td>open</td>\n",
       "      <td>email</td>\n",
       "      <td>2022-05-19</td>\n",
       "      <td>2022-05-19 01:23:43</td>\n",
       "    </tr>\n",
       "    <tr>\n",
       "      <th>8</th>\n",
       "      <td>4439</td>\n",
       "      <td>1515915625474219766</td>\n",
       "      <td>1515915625474219766-4439-628341212233a</td>\n",
       "      <td>click</td>\n",
       "      <td>email</td>\n",
       "      <td>2022-05-19</td>\n",
       "      <td>2022-05-19 01:24:16</td>\n",
       "    </tr>\n",
       "    <tr>\n",
       "      <th>9</th>\n",
       "      <td>4439</td>\n",
       "      <td>1515915625566741491</td>\n",
       "      <td>1515915625566741491-4439-6283412871599</td>\n",
       "      <td>open</td>\n",
       "      <td>email</td>\n",
       "      <td>2022-05-19</td>\n",
       "      <td>2022-05-19 01:31:06</td>\n",
       "    </tr>\n",
       "  </tbody>\n",
       "</table>\n",
       "</div>"
      ],
      "text/plain": [
       "   bulk_campaign_id            client_id  \\\n",
       "0              4439  1515915625626736623   \n",
       "1              4439  1515915625490086521   \n",
       "2              4439  1515915625553578558   \n",
       "3              4439  1515915625553578558   \n",
       "4              4439  1515915625471518311   \n",
       "5              4439  1515915625594606468   \n",
       "6              4439  1515915625491810918   \n",
       "7              4439  1515915625474219766   \n",
       "8              4439  1515915625474219766   \n",
       "9              4439  1515915625566741491   \n",
       "\n",
       "                               message_id  event channel        date  \\\n",
       "0  1515915625626736623-4439-6283415ac07ea   open   email  2022-05-19   \n",
       "1  1515915625490086521-4439-62834150016dd   open   email  2022-05-19   \n",
       "2  1515915625553578558-4439-6283415b36b4f   open   email  2022-05-19   \n",
       "3  1515915625553578558-4439-6283415b36b4f  click   email  2022-05-19   \n",
       "4  1515915625471518311-4439-628341570c133   open   email  2022-05-19   \n",
       "5  1515915625594606468-4439-6283411f277fc   open   email  2022-05-19   \n",
       "6  1515915625491810918-4439-6283411d9d299   open   email  2022-05-19   \n",
       "7  1515915625474219766-4439-628341212233a   open   email  2022-05-19   \n",
       "8  1515915625474219766-4439-628341212233a  click   email  2022-05-19   \n",
       "9  1515915625566741491-4439-6283412871599   open   email  2022-05-19   \n",
       "\n",
       "            created_at  \n",
       "0  2022-05-19 00:14:20  \n",
       "1  2022-05-19 00:39:34  \n",
       "2  2022-05-19 00:51:49  \n",
       "3  2022-05-19 00:52:20  \n",
       "4  2022-05-19 00:56:52  \n",
       "5  2022-05-19 01:04:11  \n",
       "6  2022-05-19 01:19:54  \n",
       "7  2022-05-19 01:23:43  \n",
       "8  2022-05-19 01:24:16  \n",
       "9  2022-05-19 01:31:06  "
      ]
     },
     "execution_count": 6,
     "metadata": {},
     "output_type": "execute_result"
    }
   ],
   "source": [
    "display(df_messages.info())\n",
    "df_messages.head(10)"
   ]
  },
  {
   "cell_type": "code",
   "execution_count": 7,
   "id": "27c7ebcb-0222-4c61-ad79-c60253f18678",
   "metadata": {},
   "outputs": [
    {
     "name": "stdout",
     "output_type": "stream",
     "text": [
      "<class 'pandas.core.frame.DataFrame'>\n",
      "RangeIndex: 49849 entries, 0 to 49848\n",
      "Data columns (total 2 columns):\n",
      " #   Column     Non-Null Count  Dtype\n",
      "---  ------     --------------  -----\n",
      " 0   client_id  49849 non-null  int64\n",
      " 1   target     49849 non-null  int64\n",
      "dtypes: int64(2)\n",
      "memory usage: 779.0 KB\n"
     ]
    },
    {
     "data": {
      "text/plain": [
       "None"
      ]
     },
     "metadata": {},
     "output_type": "display_data"
    },
    {
     "data": {
      "text/html": [
       "<div>\n",
       "<style scoped>\n",
       "    .dataframe tbody tr th:only-of-type {\n",
       "        vertical-align: middle;\n",
       "    }\n",
       "\n",
       "    .dataframe tbody tr th {\n",
       "        vertical-align: top;\n",
       "    }\n",
       "\n",
       "    .dataframe thead th {\n",
       "        text-align: right;\n",
       "    }\n",
       "</style>\n",
       "<table border=\"1\" class=\"dataframe\">\n",
       "  <thead>\n",
       "    <tr style=\"text-align: right;\">\n",
       "      <th></th>\n",
       "      <th>client_id</th>\n",
       "      <th>target</th>\n",
       "    </tr>\n",
       "  </thead>\n",
       "  <tbody>\n",
       "    <tr>\n",
       "      <th>0</th>\n",
       "      <td>1515915625468060902</td>\n",
       "      <td>0</td>\n",
       "    </tr>\n",
       "    <tr>\n",
       "      <th>1</th>\n",
       "      <td>1515915625468061003</td>\n",
       "      <td>1</td>\n",
       "    </tr>\n",
       "    <tr>\n",
       "      <th>2</th>\n",
       "      <td>1515915625468061099</td>\n",
       "      <td>0</td>\n",
       "    </tr>\n",
       "    <tr>\n",
       "      <th>3</th>\n",
       "      <td>1515915625468061100</td>\n",
       "      <td>0</td>\n",
       "    </tr>\n",
       "    <tr>\n",
       "      <th>4</th>\n",
       "      <td>1515915625468061170</td>\n",
       "      <td>0</td>\n",
       "    </tr>\n",
       "    <tr>\n",
       "      <th>5</th>\n",
       "      <td>1515915625468061514</td>\n",
       "      <td>0</td>\n",
       "    </tr>\n",
       "    <tr>\n",
       "      <th>6</th>\n",
       "      <td>1515915625468061877</td>\n",
       "      <td>0</td>\n",
       "    </tr>\n",
       "    <tr>\n",
       "      <th>7</th>\n",
       "      <td>1515915625468061975</td>\n",
       "      <td>0</td>\n",
       "    </tr>\n",
       "    <tr>\n",
       "      <th>8</th>\n",
       "      <td>1515915625468061994</td>\n",
       "      <td>0</td>\n",
       "    </tr>\n",
       "    <tr>\n",
       "      <th>9</th>\n",
       "      <td>1515915625468062158</td>\n",
       "      <td>0</td>\n",
       "    </tr>\n",
       "  </tbody>\n",
       "</table>\n",
       "</div>"
      ],
      "text/plain": [
       "             client_id  target\n",
       "0  1515915625468060902       0\n",
       "1  1515915625468061003       1\n",
       "2  1515915625468061099       0\n",
       "3  1515915625468061100       0\n",
       "4  1515915625468061170       0\n",
       "5  1515915625468061514       0\n",
       "6  1515915625468061877       0\n",
       "7  1515915625468061975       0\n",
       "8  1515915625468061994       0\n",
       "9  1515915625468062158       0"
      ]
     },
     "execution_count": 7,
     "metadata": {},
     "output_type": "execute_result"
    }
   ],
   "source": [
    "display(df_target.info())\n",
    "df_target.head(10)"
   ]
  },
  {
   "cell_type": "markdown",
   "id": "35ca42be-0910-4a84-9a31-dbcbbb29b386",
   "metadata": {},
   "source": [
    "Изменим тип данных у столбцов с датой на **datetime64** и проверим данные на наличие пропусков."
   ]
  },
  {
   "cell_type": "code",
   "execution_count": 8,
   "id": "669488dc-9a48-4423-93b2-fe94b0e29b31",
   "metadata": {},
   "outputs": [],
   "source": [
    "df_purchases['date'] = pd.to_datetime(df_purchases['date'], format='%Y-%m-%d')\n",
    "df_messages['date'] = pd.to_datetime(df_messages['date'], format='%Y-%m-%d')\n",
    "df_messages['created_at'] = pd.to_datetime(df_messages['created_at'], format='%Y-%m-%d %H:%M:%S')"
   ]
  },
  {
   "cell_type": "code",
   "execution_count": 9,
   "id": "5ed0e7ce-bb81-444e-94ed-076b6364e0ff",
   "metadata": {},
   "outputs": [
    {
     "name": "stdout",
     "output_type": "stream",
     "text": [
      "<class 'pandas.core.frame.DataFrame'>\n",
      "RangeIndex: 202208 entries, 0 to 202207\n",
      "Data columns (total 6 columns):\n",
      " #   Column        Non-Null Count   Dtype         \n",
      "---  ------        --------------   -----         \n",
      " 0   client_id     202208 non-null  int64         \n",
      " 1   quantity      202208 non-null  int64         \n",
      " 2   price         202208 non-null  float64       \n",
      " 3   category_ids  202208 non-null  object        \n",
      " 4   date          202208 non-null  datetime64[ns]\n",
      " 5   message_id    202208 non-null  object        \n",
      "dtypes: datetime64[ns](1), float64(1), int64(2), object(2)\n",
      "memory usage: 9.3+ MB\n",
      "<class 'pandas.core.frame.DataFrame'>\n",
      "RangeIndex: 12739798 entries, 0 to 12739797\n",
      "Data columns (total 7 columns):\n",
      " #   Column            Dtype         \n",
      "---  ------            -----         \n",
      " 0   bulk_campaign_id  int64         \n",
      " 1   client_id         int64         \n",
      " 2   message_id        object        \n",
      " 3   event             object        \n",
      " 4   channel           object        \n",
      " 5   date              datetime64[ns]\n",
      " 6   created_at        datetime64[ns]\n",
      "dtypes: datetime64[ns](2), int64(2), object(3)\n",
      "memory usage: 680.4+ MB\n"
     ]
    }
   ],
   "source": [
    "df_purchases.info()\n",
    "df_messages.info()"
   ]
  },
  {
   "cell_type": "markdown",
   "id": "34510663-07fa-4888-aa5a-e080b3016079",
   "metadata": {},
   "source": [
    "### 2.1 Проверим наличие пропусков в данных"
   ]
  },
  {
   "cell_type": "code",
   "execution_count": 10,
   "id": "cda5aec5-a4d5-4a28-8b73-6ebff2672cb5",
   "metadata": {},
   "outputs": [
    {
     "data": {
      "text/plain": [
       "client_id       0\n",
       "quantity        0\n",
       "price           0\n",
       "category_ids    0\n",
       "date            0\n",
       "message_id      0\n",
       "dtype: int64"
      ]
     },
     "execution_count": 10,
     "metadata": {},
     "output_type": "execute_result"
    }
   ],
   "source": [
    "df_purchases.isna().sum()"
   ]
  },
  {
   "cell_type": "code",
   "execution_count": 11,
   "id": "2e2eca32-6e41-458c-9c9a-1defef6a7ac5",
   "metadata": {},
   "outputs": [
    {
     "data": {
      "text/plain": [
       "bulk_campaign_id    0\n",
       "client_id           0\n",
       "message_id          0\n",
       "event               0\n",
       "channel             0\n",
       "date                0\n",
       "created_at          0\n",
       "dtype: int64"
      ]
     },
     "execution_count": 11,
     "metadata": {},
     "output_type": "execute_result"
    }
   ],
   "source": [
    "df_messages.isna().sum()"
   ]
  },
  {
   "cell_type": "code",
   "execution_count": 12,
   "id": "f280aa13-b892-4565-8303-d1e58b6cef77",
   "metadata": {},
   "outputs": [
    {
     "data": {
      "text/plain": [
       "client_id    0\n",
       "target       0\n",
       "dtype: int64"
      ]
     },
     "execution_count": 12,
     "metadata": {},
     "output_type": "execute_result"
    }
   ],
   "source": [
    "df_target.isna().sum()"
   ]
  },
  {
   "cell_type": "markdown",
   "id": "1490d6ab-1b39-4da4-8478-8b628d942e3e",
   "metadata": {},
   "source": [
    "Пропущенные значения в данных остутствуют."
   ]
  },
  {
   "cell_type": "markdown",
   "id": "180ed11b-0773-48d4-a20b-1cabe1f23e01",
   "metadata": {},
   "source": [
    "### 2.2 Выведем уникальные значения для кажодго категориального столбца"
   ]
  },
  {
   "cell_type": "code",
   "execution_count": 13,
   "id": "8b8d412d-ec70-487e-a4c2-cd67d0d67539",
   "metadata": {},
   "outputs": [
    {
     "name": "stdout",
     "output_type": "stream",
     "text": [
      "Уникальные значения в столбце event\n"
     ]
    },
    {
     "data": {
      "text/plain": [
       "array(['open', 'click', 'purchase', 'send', 'unsubscribe', 'hbq_spam',\n",
       "       'hard_bounce', 'subscribe', 'soft_bounce', 'complain', 'close'],\n",
       "      dtype=object)"
      ]
     },
     "metadata": {},
     "output_type": "display_data"
    },
    {
     "name": "stdout",
     "output_type": "stream",
     "text": [
      "Уникальные значения в столбце channel\n"
     ]
    },
    {
     "data": {
      "text/plain": [
       "array(['email', 'mobile_push'], dtype=object)"
      ]
     },
     "execution_count": 13,
     "metadata": {},
     "output_type": "execute_result"
    }
   ],
   "source": [
    "print('Уникальные значения в столбце event')\n",
    "display(df_messages['event'].unique())\n",
    "print('Уникальные значения в столбце channel')\n",
    "df_messages['channel'].unique()"
   ]
  },
  {
   "cell_type": "markdown",
   "id": "70ac2c68-671d-4e95-92e8-c097409ad273",
   "metadata": {},
   "source": [
    "### 2.3 Проверим данные на наличие дубликатов"
   ]
  },
  {
   "cell_type": "code",
   "execution_count": 14,
   "id": "6fe1df1b-54d1-4b57-9e4a-0d2e598b0d6f",
   "metadata": {},
   "outputs": [
    {
     "name": "stdout",
     "output_type": "stream",
     "text": [
      "Количество дубликатов в df_messages: 48610\n",
      "Количество дубликатов в df_purchases: 73020\n",
      "Количество дубликатов в df_target: 0\n"
     ]
    }
   ],
   "source": [
    "print('Количество дубликатов в df_messages:', df_messages.duplicated().sum())\n",
    "print('Количество дубликатов в df_purchases:', df_purchases.duplicated().sum())\n",
    "print('Количество дубликатов в df_target:', df_target.duplicated().sum())"
   ]
  },
  {
   "cell_type": "markdown",
   "id": "189e6a68-4f89-4081-b6e7-f14aec1c4801",
   "metadata": {},
   "source": [
    "В df_messages и df_purchases были найдены дубликаты. Из таблицы df_messages удалим дубликаты, а в df_purchases пока не будем их убирать, поскольку пропадет большой процент данных. Так же в обеих таблицах оставим только тех клиентов, которые есть в df_target."
   ]
  },
  {
   "cell_type": "code",
   "execution_count": 15,
   "id": "ae01b760-d718-472d-919d-dfdc3e71fa0d",
   "metadata": {},
   "outputs": [],
   "source": [
    "df_messages = df_messages[df_messages['client_id'].isin(df_target['client_id'])]\n",
    "df_purchases = df_purchases[df_purchases['client_id'].isin(df_target['client_id'])]\n",
    "\n",
    "df_messages = df_messages.drop_duplicates().reset_index(drop=True)"
   ]
  },
  {
   "cell_type": "code",
   "execution_count": 16,
   "id": "7a8d9b3a-ca19-4d83-bb87-b9e4b5e68aa4",
   "metadata": {},
   "outputs": [
    {
     "name": "stdout",
     "output_type": "stream",
     "text": [
      "<class 'pandas.core.frame.DataFrame'>\n",
      "RangeIndex: 10913197 entries, 0 to 10913196\n",
      "Data columns (total 7 columns):\n",
      " #   Column            Dtype         \n",
      "---  ------            -----         \n",
      " 0   bulk_campaign_id  int64         \n",
      " 1   client_id         int64         \n",
      " 2   message_id        object        \n",
      " 3   event             object        \n",
      " 4   channel           object        \n",
      " 5   date              datetime64[ns]\n",
      " 6   created_at        datetime64[ns]\n",
      "dtypes: datetime64[ns](2), int64(2), object(3)\n",
      "memory usage: 582.8+ MB\n"
     ]
    },
    {
     "data": {
      "text/plain": [
       "None"
      ]
     },
     "metadata": {},
     "output_type": "display_data"
    },
    {
     "data": {
      "text/html": [
       "<div>\n",
       "<style scoped>\n",
       "    .dataframe tbody tr th:only-of-type {\n",
       "        vertical-align: middle;\n",
       "    }\n",
       "\n",
       "    .dataframe tbody tr th {\n",
       "        vertical-align: top;\n",
       "    }\n",
       "\n",
       "    .dataframe thead th {\n",
       "        text-align: right;\n",
       "    }\n",
       "</style>\n",
       "<table border=\"1\" class=\"dataframe\">\n",
       "  <thead>\n",
       "    <tr style=\"text-align: right;\">\n",
       "      <th></th>\n",
       "      <th>bulk_campaign_id</th>\n",
       "      <th>client_id</th>\n",
       "      <th>message_id</th>\n",
       "      <th>event</th>\n",
       "      <th>channel</th>\n",
       "      <th>date</th>\n",
       "      <th>created_at</th>\n",
       "    </tr>\n",
       "  </thead>\n",
       "  <tbody>\n",
       "    <tr>\n",
       "      <th>0</th>\n",
       "      <td>4439</td>\n",
       "      <td>1515915625626736623</td>\n",
       "      <td>1515915625626736623-4439-6283415ac07ea</td>\n",
       "      <td>open</td>\n",
       "      <td>email</td>\n",
       "      <td>2022-05-19</td>\n",
       "      <td>2022-05-19 00:14:20</td>\n",
       "    </tr>\n",
       "    <tr>\n",
       "      <th>1</th>\n",
       "      <td>4439</td>\n",
       "      <td>1515915625490086521</td>\n",
       "      <td>1515915625490086521-4439-62834150016dd</td>\n",
       "      <td>open</td>\n",
       "      <td>email</td>\n",
       "      <td>2022-05-19</td>\n",
       "      <td>2022-05-19 00:39:34</td>\n",
       "    </tr>\n",
       "    <tr>\n",
       "      <th>2</th>\n",
       "      <td>4439</td>\n",
       "      <td>1515915625553578558</td>\n",
       "      <td>1515915625553578558-4439-6283415b36b4f</td>\n",
       "      <td>open</td>\n",
       "      <td>email</td>\n",
       "      <td>2022-05-19</td>\n",
       "      <td>2022-05-19 00:51:49</td>\n",
       "    </tr>\n",
       "    <tr>\n",
       "      <th>3</th>\n",
       "      <td>4439</td>\n",
       "      <td>1515915625553578558</td>\n",
       "      <td>1515915625553578558-4439-6283415b36b4f</td>\n",
       "      <td>click</td>\n",
       "      <td>email</td>\n",
       "      <td>2022-05-19</td>\n",
       "      <td>2022-05-19 00:52:20</td>\n",
       "    </tr>\n",
       "    <tr>\n",
       "      <th>4</th>\n",
       "      <td>4439</td>\n",
       "      <td>1515915625471518311</td>\n",
       "      <td>1515915625471518311-4439-628341570c133</td>\n",
       "      <td>open</td>\n",
       "      <td>email</td>\n",
       "      <td>2022-05-19</td>\n",
       "      <td>2022-05-19 00:56:52</td>\n",
       "    </tr>\n",
       "  </tbody>\n",
       "</table>\n",
       "</div>"
      ],
      "text/plain": [
       "   bulk_campaign_id            client_id  \\\n",
       "0              4439  1515915625626736623   \n",
       "1              4439  1515915625490086521   \n",
       "2              4439  1515915625553578558   \n",
       "3              4439  1515915625553578558   \n",
       "4              4439  1515915625471518311   \n",
       "\n",
       "                               message_id  event channel       date  \\\n",
       "0  1515915625626736623-4439-6283415ac07ea   open   email 2022-05-19   \n",
       "1  1515915625490086521-4439-62834150016dd   open   email 2022-05-19   \n",
       "2  1515915625553578558-4439-6283415b36b4f   open   email 2022-05-19   \n",
       "3  1515915625553578558-4439-6283415b36b4f  click   email 2022-05-19   \n",
       "4  1515915625471518311-4439-628341570c133   open   email 2022-05-19   \n",
       "\n",
       "           created_at  \n",
       "0 2022-05-19 00:14:20  \n",
       "1 2022-05-19 00:39:34  \n",
       "2 2022-05-19 00:51:49  \n",
       "3 2022-05-19 00:52:20  \n",
       "4 2022-05-19 00:56:52  "
      ]
     },
     "execution_count": 16,
     "metadata": {},
     "output_type": "execute_result"
    }
   ],
   "source": [
    "display(df_messages.info())\n",
    "df_messages.head()"
   ]
  },
  {
   "cell_type": "code",
   "execution_count": 17,
   "id": "d7c5296d-abc5-4624-8cd5-1988d7b63181",
   "metadata": {},
   "outputs": [
    {
     "name": "stdout",
     "output_type": "stream",
     "text": [
      "<class 'pandas.core.frame.DataFrame'>\n",
      "RangeIndex: 202208 entries, 0 to 202207\n",
      "Data columns (total 6 columns):\n",
      " #   Column        Non-Null Count   Dtype         \n",
      "---  ------        --------------   -----         \n",
      " 0   client_id     202208 non-null  int64         \n",
      " 1   quantity      202208 non-null  int64         \n",
      " 2   price         202208 non-null  float64       \n",
      " 3   category_ids  202208 non-null  object        \n",
      " 4   date          202208 non-null  datetime64[ns]\n",
      " 5   message_id    202208 non-null  object        \n",
      "dtypes: datetime64[ns](1), float64(1), int64(2), object(2)\n",
      "memory usage: 9.3+ MB\n"
     ]
    },
    {
     "data": {
      "text/plain": [
       "None"
      ]
     },
     "metadata": {},
     "output_type": "display_data"
    },
    {
     "data": {
      "text/html": [
       "<div>\n",
       "<style scoped>\n",
       "    .dataframe tbody tr th:only-of-type {\n",
       "        vertical-align: middle;\n",
       "    }\n",
       "\n",
       "    .dataframe tbody tr th {\n",
       "        vertical-align: top;\n",
       "    }\n",
       "\n",
       "    .dataframe thead th {\n",
       "        text-align: right;\n",
       "    }\n",
       "</style>\n",
       "<table border=\"1\" class=\"dataframe\">\n",
       "  <thead>\n",
       "    <tr style=\"text-align: right;\">\n",
       "      <th></th>\n",
       "      <th>client_id</th>\n",
       "      <th>quantity</th>\n",
       "      <th>price</th>\n",
       "      <th>category_ids</th>\n",
       "      <th>date</th>\n",
       "      <th>message_id</th>\n",
       "    </tr>\n",
       "  </thead>\n",
       "  <tbody>\n",
       "    <tr>\n",
       "      <th>0</th>\n",
       "      <td>1515915625468169594</td>\n",
       "      <td>1</td>\n",
       "      <td>1999.0</td>\n",
       "      <td>['4', '28', '57', '431']</td>\n",
       "      <td>2022-05-16</td>\n",
       "      <td>1515915625468169594-4301-627b661e9736d</td>\n",
       "    </tr>\n",
       "    <tr>\n",
       "      <th>1</th>\n",
       "      <td>1515915625468169594</td>\n",
       "      <td>1</td>\n",
       "      <td>2499.0</td>\n",
       "      <td>['4', '28', '57', '431']</td>\n",
       "      <td>2022-05-16</td>\n",
       "      <td>1515915625468169594-4301-627b661e9736d</td>\n",
       "    </tr>\n",
       "    <tr>\n",
       "      <th>2</th>\n",
       "      <td>1515915625471138230</td>\n",
       "      <td>1</td>\n",
       "      <td>6499.0</td>\n",
       "      <td>['4', '28', '57', '431']</td>\n",
       "      <td>2022-05-16</td>\n",
       "      <td>1515915625471138230-4437-6282242f27843</td>\n",
       "    </tr>\n",
       "    <tr>\n",
       "      <th>3</th>\n",
       "      <td>1515915625471138230</td>\n",
       "      <td>1</td>\n",
       "      <td>4999.0</td>\n",
       "      <td>['4', '28', '244', '432']</td>\n",
       "      <td>2022-05-16</td>\n",
       "      <td>1515915625471138230-4437-6282242f27843</td>\n",
       "    </tr>\n",
       "    <tr>\n",
       "      <th>4</th>\n",
       "      <td>1515915625471138230</td>\n",
       "      <td>1</td>\n",
       "      <td>4999.0</td>\n",
       "      <td>['4', '28', '49', '413']</td>\n",
       "      <td>2022-05-16</td>\n",
       "      <td>1515915625471138230-4437-6282242f27843</td>\n",
       "    </tr>\n",
       "  </tbody>\n",
       "</table>\n",
       "</div>"
      ],
      "text/plain": [
       "             client_id  quantity   price               category_ids  \\\n",
       "0  1515915625468169594         1  1999.0   ['4', '28', '57', '431']   \n",
       "1  1515915625468169594         1  2499.0   ['4', '28', '57', '431']   \n",
       "2  1515915625471138230         1  6499.0   ['4', '28', '57', '431']   \n",
       "3  1515915625471138230         1  4999.0  ['4', '28', '244', '432']   \n",
       "4  1515915625471138230         1  4999.0   ['4', '28', '49', '413']   \n",
       "\n",
       "        date                              message_id  \n",
       "0 2022-05-16  1515915625468169594-4301-627b661e9736d  \n",
       "1 2022-05-16  1515915625468169594-4301-627b661e9736d  \n",
       "2 2022-05-16  1515915625471138230-4437-6282242f27843  \n",
       "3 2022-05-16  1515915625471138230-4437-6282242f27843  \n",
       "4 2022-05-16  1515915625471138230-4437-6282242f27843  "
      ]
     },
     "execution_count": 17,
     "metadata": {},
     "output_type": "execute_result"
    }
   ],
   "source": [
    "display(df_purchases.info())\n",
    "df_purchases.head()"
   ]
  },
  {
   "cell_type": "markdown",
   "id": "7c6d628a-2f94-4867-a3f9-f846863a2015",
   "metadata": {},
   "source": [
    "**Вывод:**  \n",
    "\n",
    "В ходе предобработки данных мы проверили их на наличие пропусков и дубликатов и избавились от них, только в таблице df_purchases не трогали дубликаты, поскольку пропадет большое количество записей. Так же изменили типы данных с датой и проверили уникальные значение в категориальных признаках."
   ]
  },
  {
   "cell_type": "markdown",
   "id": "04bd9c2f-c3df-4479-aaf8-2c7d7d10166a",
   "metadata": {},
   "source": [
    "## 3. Проведем исследовательский анализ данных"
   ]
  },
  {
   "cell_type": "code",
   "execution_count": 18,
   "id": "d2e39fac-a36f-4aa3-940c-bf3c59c6668c",
   "metadata": {},
   "outputs": [],
   "source": [
    "def df_visualization(df):\n",
    "    for column in df.columns:\n",
    "        column_type = df[column].dtype\n",
    "        \n",
    "        if column_type in ['int64', 'float64', 'datetime64[ns]'] and column !='client_id':\n",
    "            fig, axes = plt.subplots(nrows = 1, ncols = 2, figsize=(15, 4))\n",
    "            axes = axes.ravel()\n",
    "            sns.histplot(data = df[column], kde=True, bins = 20, ax=axes[0])\n",
    "            axes[0].set_title(column)\n",
    "            mean = df[column].mean()\n",
    "            axes[0].axvline(mean, color = 'red', linestyle = '-', label = f'Mean: {mean:.2f}' )\n",
    "            median = df[column].median()\n",
    "            axes[0].axvline(median, color = 'yellow', linestyle = '--', label = f'Median: {median:.2f}')\n",
    "            axes[0].legend()\n",
    "            axes[0].legend(loc = 'upper right')\n",
    "\n",
    "            sns.boxplot(x=df[column], ax=axes[1])\n",
    "            axes[1].set_title(f'{column}')\n",
    "            axes[1].set_xlabel(column)\n",
    "            plt.show()"
   ]
  },
  {
   "cell_type": "code",
   "execution_count": 19,
   "id": "406f5263-c131-4f26-a520-c962030c7429",
   "metadata": {},
   "outputs": [
    {
     "data": {
      "image/png": "[encoded data removed]",
      "text/plain": [
       "<Figure size 1500x400 with 2 Axes>"
      ]
     },
     "metadata": {},
     "output_type": "display_data"
    },
    {
     "data": {
      "image/png": "[encoded data removed]",
      "text/plain": [
       "<Figure size 1500x400 with 2 Axes>"
      ]
     },
     "metadata": {},
     "output_type": "display_data"
    },
    {
     "data": {
      "image/png": "[encoded data removed]",
      "text/plain": [
       "<Figure size 1500x400 with 2 Axes>"
      ]
     },
     "metadata": {},
     "output_type": "display_data"
    }
   ],
   "source": [
    "df_visualization(df_purchases)"
   ]
  },
  {
   "cell_type": "code",
   "execution_count": 20,
   "id": "5f51f878-03fd-444a-85f9-f51572312240",
   "metadata": {},
   "outputs": [
    {
     "name": "stdout",
     "output_type": "stream",
     "text": [
      "Распределение значений столбца quantity\n"
     ]
    },
    {
     "data": {
      "text/plain": [
       "count    202208.000000\n",
       "mean          1.006483\n",
       "std           0.184384\n",
       "min           1.000000\n",
       "25%           1.000000\n",
       "50%           1.000000\n",
       "75%           1.000000\n",
       "max          30.000000\n",
       "Name: quantity, dtype: float64"
      ]
     },
     "metadata": {},
     "output_type": "display_data"
    },
    {
     "name": "stdout",
     "output_type": "stream",
     "text": [
      "\n",
      "Распределение значений столбца price\n"
     ]
    },
    {
     "data": {
      "text/plain": [
       "count    202208.000000\n",
       "mean       1193.301516\n",
       "std        1342.252664\n",
       "min           1.000000\n",
       "25%         352.000000\n",
       "50%         987.000000\n",
       "75%        1699.000000\n",
       "max       85499.000000\n",
       "Name: price, dtype: float64"
      ]
     },
     "metadata": {},
     "output_type": "display_data"
    },
    {
     "name": "stdout",
     "output_type": "stream",
     "text": [
      "\n",
      "Распределение значений столбца year\n"
     ]
    },
    {
     "data": {
      "text/plain": [
       "count    202208.000000\n",
       "mean       2022.650291\n",
       "std           0.579045\n",
       "min        2022.000000\n",
       "25%        2022.000000\n",
       "50%        2023.000000\n",
       "75%        2023.000000\n",
       "max        2024.000000\n",
       "Name: year, dtype: float64"
      ]
     },
     "execution_count": 20,
     "metadata": {},
     "output_type": "execute_result"
    }
   ],
   "source": [
    "print('Распределение значений столбца quantity')\n",
    "display(df_purchases['quantity'].describe())\n",
    "print()\n",
    "print('Распределение значений столбца price')\n",
    "display(df_purchases['price'].describe())\n",
    "print()\n",
    "df_purchases['year'] = df_purchases['date'].dt.year\n",
    "print('Распределение значений столбца year')\n",
    "df_purchases['year'].describe()"
   ]
  },
  {
   "cell_type": "markdown",
   "id": "2dd24e55-819f-4862-a094-7832e9f82655",
   "metadata": {},
   "source": [
    "**Вывод:**  \n",
    "  \n",
    "В нашем распоряжении данные за 2 года, с 2022 по 2024.  \n",
    "Основная часть данных находится в диапазоне с ценами от 350 до 1700. Так же есть и выбивающиеся значения по типу 85499, данные значения можно объяснить наличием дорогостоящих товаров в интернет магазине. По распределению значений столбца quantity видно, что клиенты заказывали от 1 до 30 товаров за раз."
   ]
  },
  {
   "cell_type": "markdown",
   "id": "6ee2c10f-5cd3-4eb3-bf54-1c92c070f214",
   "metadata": {},
   "source": [
    "Далее посчитаем, сколько каждый пользователь совершил действий."
   ]
  },
  {
   "cell_type": "code",
   "execution_count": 21,
   "id": "27cf6b91-b998-4ba4-a03e-4ef42e9eb6a2",
   "metadata": {},
   "outputs": [
    {
     "data": {
      "text/html": [
       "<div>\n",
       "<style scoped>\n",
       "    .dataframe tbody tr th:only-of-type {\n",
       "        vertical-align: middle;\n",
       "    }\n",
       "\n",
       "    .dataframe tbody tr th {\n",
       "        vertical-align: top;\n",
       "    }\n",
       "\n",
       "    .dataframe thead th {\n",
       "        text-align: right;\n",
       "    }\n",
       "</style>\n",
       "<table border=\"1\" class=\"dataframe\">\n",
       "  <thead>\n",
       "    <tr style=\"text-align: right;\">\n",
       "      <th>event</th>\n",
       "      <th>client_id</th>\n",
       "      <th>click</th>\n",
       "      <th>close</th>\n",
       "      <th>complain</th>\n",
       "      <th>hard_bounce</th>\n",
       "      <th>hbq_spam</th>\n",
       "      <th>open</th>\n",
       "      <th>purchase</th>\n",
       "      <th>send</th>\n",
       "      <th>soft_bounce</th>\n",
       "      <th>subscribe</th>\n",
       "      <th>unsubscribe</th>\n",
       "    </tr>\n",
       "  </thead>\n",
       "  <tbody>\n",
       "    <tr>\n",
       "      <th>0</th>\n",
       "      <td>1515915625468060902</td>\n",
       "      <td>10</td>\n",
       "      <td>0</td>\n",
       "      <td>0</td>\n",
       "      <td>0</td>\n",
       "      <td>0</td>\n",
       "      <td>35</td>\n",
       "      <td>5</td>\n",
       "      <td>126</td>\n",
       "      <td>0</td>\n",
       "      <td>0</td>\n",
       "      <td>1</td>\n",
       "    </tr>\n",
       "    <tr>\n",
       "      <th>1</th>\n",
       "      <td>1515915625468061003</td>\n",
       "      <td>5</td>\n",
       "      <td>0</td>\n",
       "      <td>0</td>\n",
       "      <td>0</td>\n",
       "      <td>0</td>\n",
       "      <td>5</td>\n",
       "      <td>1</td>\n",
       "      <td>154</td>\n",
       "      <td>0</td>\n",
       "      <td>0</td>\n",
       "      <td>0</td>\n",
       "    </tr>\n",
       "    <tr>\n",
       "      <th>2</th>\n",
       "      <td>1515915625468061099</td>\n",
       "      <td>8</td>\n",
       "      <td>0</td>\n",
       "      <td>0</td>\n",
       "      <td>2</td>\n",
       "      <td>0</td>\n",
       "      <td>51</td>\n",
       "      <td>0</td>\n",
       "      <td>215</td>\n",
       "      <td>0</td>\n",
       "      <td>0</td>\n",
       "      <td>0</td>\n",
       "    </tr>\n",
       "    <tr>\n",
       "      <th>3</th>\n",
       "      <td>1515915625468061100</td>\n",
       "      <td>1</td>\n",
       "      <td>0</td>\n",
       "      <td>0</td>\n",
       "      <td>1</td>\n",
       "      <td>0</td>\n",
       "      <td>157</td>\n",
       "      <td>1</td>\n",
       "      <td>267</td>\n",
       "      <td>1</td>\n",
       "      <td>0</td>\n",
       "      <td>0</td>\n",
       "    </tr>\n",
       "    <tr>\n",
       "      <th>4</th>\n",
       "      <td>1515915625468061170</td>\n",
       "      <td>16</td>\n",
       "      <td>0</td>\n",
       "      <td>0</td>\n",
       "      <td>0</td>\n",
       "      <td>0</td>\n",
       "      <td>31</td>\n",
       "      <td>3</td>\n",
       "      <td>243</td>\n",
       "      <td>0</td>\n",
       "      <td>0</td>\n",
       "      <td>0</td>\n",
       "    </tr>\n",
       "    <tr>\n",
       "      <th>5</th>\n",
       "      <td>1515915625468061514</td>\n",
       "      <td>12</td>\n",
       "      <td>0</td>\n",
       "      <td>0</td>\n",
       "      <td>0</td>\n",
       "      <td>0</td>\n",
       "      <td>17</td>\n",
       "      <td>1</td>\n",
       "      <td>150</td>\n",
       "      <td>0</td>\n",
       "      <td>0</td>\n",
       "      <td>0</td>\n",
       "    </tr>\n",
       "    <tr>\n",
       "      <th>6</th>\n",
       "      <td>1515915625468061877</td>\n",
       "      <td>5</td>\n",
       "      <td>0</td>\n",
       "      <td>0</td>\n",
       "      <td>0</td>\n",
       "      <td>0</td>\n",
       "      <td>50</td>\n",
       "      <td>1</td>\n",
       "      <td>173</td>\n",
       "      <td>0</td>\n",
       "      <td>0</td>\n",
       "      <td>0</td>\n",
       "    </tr>\n",
       "    <tr>\n",
       "      <th>7</th>\n",
       "      <td>1515915625468061975</td>\n",
       "      <td>7</td>\n",
       "      <td>0</td>\n",
       "      <td>0</td>\n",
       "      <td>0</td>\n",
       "      <td>1</td>\n",
       "      <td>17</td>\n",
       "      <td>1</td>\n",
       "      <td>154</td>\n",
       "      <td>0</td>\n",
       "      <td>0</td>\n",
       "      <td>0</td>\n",
       "    </tr>\n",
       "    <tr>\n",
       "      <th>8</th>\n",
       "      <td>1515915625468061994</td>\n",
       "      <td>9</td>\n",
       "      <td>0</td>\n",
       "      <td>0</td>\n",
       "      <td>0</td>\n",
       "      <td>0</td>\n",
       "      <td>21</td>\n",
       "      <td>2</td>\n",
       "      <td>346</td>\n",
       "      <td>0</td>\n",
       "      <td>0</td>\n",
       "      <td>0</td>\n",
       "    </tr>\n",
       "    <tr>\n",
       "      <th>9</th>\n",
       "      <td>1515915625468062158</td>\n",
       "      <td>29</td>\n",
       "      <td>0</td>\n",
       "      <td>0</td>\n",
       "      <td>0</td>\n",
       "      <td>0</td>\n",
       "      <td>28</td>\n",
       "      <td>2</td>\n",
       "      <td>113</td>\n",
       "      <td>0</td>\n",
       "      <td>0</td>\n",
       "      <td>0</td>\n",
       "    </tr>\n",
       "  </tbody>\n",
       "</table>\n",
       "</div>"
      ],
      "text/plain": [
       "event            client_id  click  close  complain  hard_bounce  hbq_spam  \\\n",
       "0      1515915625468060902     10      0         0            0         0   \n",
       "1      1515915625468061003      5      0         0            0         0   \n",
       "2      1515915625468061099      8      0         0            2         0   \n",
       "3      1515915625468061100      1      0         0            1         0   \n",
       "4      1515915625468061170     16      0         0            0         0   \n",
       "5      1515915625468061514     12      0         0            0         0   \n",
       "6      1515915625468061877      5      0         0            0         0   \n",
       "7      1515915625468061975      7      0         0            0         1   \n",
       "8      1515915625468061994      9      0         0            0         0   \n",
       "9      1515915625468062158     29      0         0            0         0   \n",
       "\n",
       "event  open  purchase  send  soft_bounce  subscribe  unsubscribe  \n",
       "0        35         5   126            0          0            1  \n",
       "1         5         1   154            0          0            0  \n",
       "2        51         0   215            0          0            0  \n",
       "3       157         1   267            1          0            0  \n",
       "4        31         3   243            0          0            0  \n",
       "5        17         1   150            0          0            0  \n",
       "6        50         1   173            0          0            0  \n",
       "7        17         1   154            0          0            0  \n",
       "8        21         2   346            0          0            0  \n",
       "9        28         2   113            0          0            0  "
      ]
     },
     "execution_count": 21,
     "metadata": {},
     "output_type": "execute_result"
    }
   ],
   "source": [
    "actions_count = pd.pivot_table(data=df_messages, index='client_id', columns='event', aggfunc='size', fill_value=0).reset_index()\n",
    "actions_count.head(10)"
   ]
  },
  {
   "cell_type": "markdown",
   "id": "5b972d98-39f8-4abe-a906-fea0ab9e35aa",
   "metadata": {},
   "source": [
    "Далее разделим значения стобца **category_ids**, сделав из них новые отдельные признаки."
   ]
  },
  {
   "cell_type": "code",
   "execution_count": 22,
   "id": "fd9ee482-a252-4917-8e8d-cfc5bc286d26",
   "metadata": {},
   "outputs": [
    {
     "data": {
      "text/html": [
       "<div>\n",
       "<style scoped>\n",
       "    .dataframe tbody tr th:only-of-type {\n",
       "        vertical-align: middle;\n",
       "    }\n",
       "\n",
       "    .dataframe tbody tr th {\n",
       "        vertical-align: top;\n",
       "    }\n",
       "\n",
       "    .dataframe thead th {\n",
       "        text-align: right;\n",
       "    }\n",
       "</style>\n",
       "<table border=\"1\" class=\"dataframe\">\n",
       "  <thead>\n",
       "    <tr style=\"text-align: right;\">\n",
       "      <th></th>\n",
       "      <th>client_id</th>\n",
       "      <th>quantity</th>\n",
       "      <th>price</th>\n",
       "      <th>category_ids</th>\n",
       "      <th>date</th>\n",
       "      <th>message_id</th>\n",
       "      <th>year</th>\n",
       "    </tr>\n",
       "  </thead>\n",
       "  <tbody>\n",
       "    <tr>\n",
       "      <th>0</th>\n",
       "      <td>1515915625468169594</td>\n",
       "      <td>1</td>\n",
       "      <td>1999.0</td>\n",
       "      <td>[4, 28, 57, 431]</td>\n",
       "      <td>2022-05-16</td>\n",
       "      <td>1515915625468169594-4301-627b661e9736d</td>\n",
       "      <td>2022</td>\n",
       "    </tr>\n",
       "    <tr>\n",
       "      <th>1</th>\n",
       "      <td>1515915625468169594</td>\n",
       "      <td>1</td>\n",
       "      <td>2499.0</td>\n",
       "      <td>[4, 28, 57, 431]</td>\n",
       "      <td>2022-05-16</td>\n",
       "      <td>1515915625468169594-4301-627b661e9736d</td>\n",
       "      <td>2022</td>\n",
       "    </tr>\n",
       "    <tr>\n",
       "      <th>2</th>\n",
       "      <td>1515915625471138230</td>\n",
       "      <td>1</td>\n",
       "      <td>6499.0</td>\n",
       "      <td>[4, 28, 57, 431]</td>\n",
       "      <td>2022-05-16</td>\n",
       "      <td>1515915625471138230-4437-6282242f27843</td>\n",
       "      <td>2022</td>\n",
       "    </tr>\n",
       "    <tr>\n",
       "      <th>3</th>\n",
       "      <td>1515915625471138230</td>\n",
       "      <td>1</td>\n",
       "      <td>4999.0</td>\n",
       "      <td>[4, 28, 244, 432]</td>\n",
       "      <td>2022-05-16</td>\n",
       "      <td>1515915625471138230-4437-6282242f27843</td>\n",
       "      <td>2022</td>\n",
       "    </tr>\n",
       "    <tr>\n",
       "      <th>4</th>\n",
       "      <td>1515915625471138230</td>\n",
       "      <td>1</td>\n",
       "      <td>4999.0</td>\n",
       "      <td>[4, 28, 49, 413]</td>\n",
       "      <td>2022-05-16</td>\n",
       "      <td>1515915625471138230-4437-6282242f27843</td>\n",
       "      <td>2022</td>\n",
       "    </tr>\n",
       "  </tbody>\n",
       "</table>\n",
       "</div>"
      ],
      "text/plain": [
       "             client_id  quantity   price       category_ids       date  \\\n",
       "0  1515915625468169594         1  1999.0   [4, 28, 57, 431] 2022-05-16   \n",
       "1  1515915625468169594         1  2499.0   [4, 28, 57, 431] 2022-05-16   \n",
       "2  1515915625471138230         1  6499.0   [4, 28, 57, 431] 2022-05-16   \n",
       "3  1515915625471138230         1  4999.0  [4, 28, 244, 432] 2022-05-16   \n",
       "4  1515915625471138230         1  4999.0   [4, 28, 49, 413] 2022-05-16   \n",
       "\n",
       "                               message_id  year  \n",
       "0  1515915625468169594-4301-627b661e9736d  2022  \n",
       "1  1515915625468169594-4301-627b661e9736d  2022  \n",
       "2  1515915625471138230-4437-6282242f27843  2022  \n",
       "3  1515915625471138230-4437-6282242f27843  2022  \n",
       "4  1515915625471138230-4437-6282242f27843  2022  "
      ]
     },
     "execution_count": 22,
     "metadata": {},
     "output_type": "execute_result"
    }
   ],
   "source": [
    "df_purchases['category_ids'] = df_purchases['category_ids'].str.replace(r\"[\\[\\]' ]\", \"\", regex=True).str.split(',')\n",
    "df_purchases.head()"
   ]
  },
  {
   "cell_type": "code",
   "execution_count": 23,
   "id": "cf5210d0-b7a6-46de-9e9c-255231fdf3b6",
   "metadata": {},
   "outputs": [],
   "source": [
    "category_split = df_purchases['category_ids'].apply(pd.Series)\n",
    "category_split.columns = [f'category_{i+1}' for i in category_split.columns]\n",
    "df_purchases = pd.concat([df_purchases, category_split], axis=1)"
   ]
  },
  {
   "cell_type": "code",
   "execution_count": 24,
   "id": "46be8d54-7934-4535-a2ed-bccc9e05f594",
   "metadata": {},
   "outputs": [
    {
     "data": {
      "text/html": [
       "<div>\n",
       "<style scoped>\n",
       "    .dataframe tbody tr th:only-of-type {\n",
       "        vertical-align: middle;\n",
       "    }\n",
       "\n",
       "    .dataframe tbody tr th {\n",
       "        vertical-align: top;\n",
       "    }\n",
       "\n",
       "    .dataframe thead th {\n",
       "        text-align: right;\n",
       "    }\n",
       "</style>\n",
       "<table border=\"1\" class=\"dataframe\">\n",
       "  <thead>\n",
       "    <tr style=\"text-align: right;\">\n",
       "      <th></th>\n",
       "      <th>client_id</th>\n",
       "      <th>quantity</th>\n",
       "      <th>price</th>\n",
       "      <th>category_ids</th>\n",
       "      <th>date</th>\n",
       "      <th>message_id</th>\n",
       "      <th>year</th>\n",
       "      <th>category_1</th>\n",
       "      <th>category_2</th>\n",
       "      <th>category_3</th>\n",
       "      <th>category_4</th>\n",
       "      <th>category_5</th>\n",
       "    </tr>\n",
       "  </thead>\n",
       "  <tbody>\n",
       "    <tr>\n",
       "      <th>0</th>\n",
       "      <td>1515915625468169594</td>\n",
       "      <td>1</td>\n",
       "      <td>1999.0</td>\n",
       "      <td>[4, 28, 57, 431]</td>\n",
       "      <td>2022-05-16</td>\n",
       "      <td>1515915625468169594-4301-627b661e9736d</td>\n",
       "      <td>2022</td>\n",
       "      <td>4</td>\n",
       "      <td>28</td>\n",
       "      <td>57</td>\n",
       "      <td>431</td>\n",
       "      <td>NaN</td>\n",
       "    </tr>\n",
       "    <tr>\n",
       "      <th>1</th>\n",
       "      <td>1515915625468169594</td>\n",
       "      <td>1</td>\n",
       "      <td>2499.0</td>\n",
       "      <td>[4, 28, 57, 431]</td>\n",
       "      <td>2022-05-16</td>\n",
       "      <td>1515915625468169594-4301-627b661e9736d</td>\n",
       "      <td>2022</td>\n",
       "      <td>4</td>\n",
       "      <td>28</td>\n",
       "      <td>57</td>\n",
       "      <td>431</td>\n",
       "      <td>NaN</td>\n",
       "    </tr>\n",
       "    <tr>\n",
       "      <th>2</th>\n",
       "      <td>1515915625471138230</td>\n",
       "      <td>1</td>\n",
       "      <td>6499.0</td>\n",
       "      <td>[4, 28, 57, 431]</td>\n",
       "      <td>2022-05-16</td>\n",
       "      <td>1515915625471138230-4437-6282242f27843</td>\n",
       "      <td>2022</td>\n",
       "      <td>4</td>\n",
       "      <td>28</td>\n",
       "      <td>57</td>\n",
       "      <td>431</td>\n",
       "      <td>NaN</td>\n",
       "    </tr>\n",
       "    <tr>\n",
       "      <th>3</th>\n",
       "      <td>1515915625471138230</td>\n",
       "      <td>1</td>\n",
       "      <td>4999.0</td>\n",
       "      <td>[4, 28, 244, 432]</td>\n",
       "      <td>2022-05-16</td>\n",
       "      <td>1515915625471138230-4437-6282242f27843</td>\n",
       "      <td>2022</td>\n",
       "      <td>4</td>\n",
       "      <td>28</td>\n",
       "      <td>244</td>\n",
       "      <td>432</td>\n",
       "      <td>NaN</td>\n",
       "    </tr>\n",
       "    <tr>\n",
       "      <th>4</th>\n",
       "      <td>1515915625471138230</td>\n",
       "      <td>1</td>\n",
       "      <td>4999.0</td>\n",
       "      <td>[4, 28, 49, 413]</td>\n",
       "      <td>2022-05-16</td>\n",
       "      <td>1515915625471138230-4437-6282242f27843</td>\n",
       "      <td>2022</td>\n",
       "      <td>4</td>\n",
       "      <td>28</td>\n",
       "      <td>49</td>\n",
       "      <td>413</td>\n",
       "      <td>NaN</td>\n",
       "    </tr>\n",
       "    <tr>\n",
       "      <th>5</th>\n",
       "      <td>1515915625471640575</td>\n",
       "      <td>1</td>\n",
       "      <td>3499.0</td>\n",
       "      <td>[2, 18, 258, 441]</td>\n",
       "      <td>2022-05-16</td>\n",
       "      <td>1515915625471640575-4301-627b661b67ac3</td>\n",
       "      <td>2022</td>\n",
       "      <td>2</td>\n",
       "      <td>18</td>\n",
       "      <td>258</td>\n",
       "      <td>441</td>\n",
       "      <td>NaN</td>\n",
       "    </tr>\n",
       "    <tr>\n",
       "      <th>6</th>\n",
       "      <td>1515915625490211585</td>\n",
       "      <td>1</td>\n",
       "      <td>1699.0</td>\n",
       "      <td>[2, 18, 341, 1311]</td>\n",
       "      <td>2022-05-16</td>\n",
       "      <td>1515915625490211585-4301-627b661843283</td>\n",
       "      <td>2022</td>\n",
       "      <td>2</td>\n",
       "      <td>18</td>\n",
       "      <td>341</td>\n",
       "      <td>1311</td>\n",
       "      <td>NaN</td>\n",
       "    </tr>\n",
       "    <tr>\n",
       "      <th>7</th>\n",
       "      <td>1515915625490739153</td>\n",
       "      <td>1</td>\n",
       "      <td>1999.0</td>\n",
       "      <td>[2, 18, 123, 451]</td>\n",
       "      <td>2022-05-16</td>\n",
       "      <td>1515915625490739153-4172-626b943cc789b</td>\n",
       "      <td>2022</td>\n",
       "      <td>2</td>\n",
       "      <td>18</td>\n",
       "      <td>123</td>\n",
       "      <td>451</td>\n",
       "      <td>NaN</td>\n",
       "    </tr>\n",
       "    <tr>\n",
       "      <th>8</th>\n",
       "      <td>1515915625491478747</td>\n",
       "      <td>1</td>\n",
       "      <td>999.0</td>\n",
       "      <td>[5562, 5631, 5549, 667]</td>\n",
       "      <td>2022-05-16</td>\n",
       "      <td>1515915625491478747-4273-6274ceb769d59</td>\n",
       "      <td>2022</td>\n",
       "      <td>5562</td>\n",
       "      <td>5631</td>\n",
       "      <td>5549</td>\n",
       "      <td>667</td>\n",
       "      <td>NaN</td>\n",
       "    </tr>\n",
       "    <tr>\n",
       "      <th>9</th>\n",
       "      <td>1515915625491651493</td>\n",
       "      <td>1</td>\n",
       "      <td>699.0</td>\n",
       "      <td>[5562, 5630, 5649, 678]</td>\n",
       "      <td>2022-05-16</td>\n",
       "      <td>1515915625491651493-4437-6282242f2a9e2</td>\n",
       "      <td>2022</td>\n",
       "      <td>5562</td>\n",
       "      <td>5630</td>\n",
       "      <td>5649</td>\n",
       "      <td>678</td>\n",
       "      <td>NaN</td>\n",
       "    </tr>\n",
       "  </tbody>\n",
       "</table>\n",
       "</div>"
      ],
      "text/plain": [
       "             client_id  quantity   price             category_ids       date  \\\n",
       "0  1515915625468169594         1  1999.0         [4, 28, 57, 431] 2022-05-16   \n",
       "1  1515915625468169594         1  2499.0         [4, 28, 57, 431] 2022-05-16   \n",
       "2  1515915625471138230         1  6499.0         [4, 28, 57, 431] 2022-05-16   \n",
       "3  1515915625471138230         1  4999.0        [4, 28, 244, 432] 2022-05-16   \n",
       "4  1515915625471138230         1  4999.0         [4, 28, 49, 413] 2022-05-16   \n",
       "5  1515915625471640575         1  3499.0        [2, 18, 258, 441] 2022-05-16   \n",
       "6  1515915625490211585         1  1699.0       [2, 18, 341, 1311] 2022-05-16   \n",
       "7  1515915625490739153         1  1999.0        [2, 18, 123, 451] 2022-05-16   \n",
       "8  1515915625491478747         1   999.0  [5562, 5631, 5549, 667] 2022-05-16   \n",
       "9  1515915625491651493         1   699.0  [5562, 5630, 5649, 678] 2022-05-16   \n",
       "\n",
       "                               message_id  year category_1 category_2  \\\n",
       "0  1515915625468169594-4301-627b661e9736d  2022          4         28   \n",
       "1  1515915625468169594-4301-627b661e9736d  2022          4         28   \n",
       "2  1515915625471138230-4437-6282242f27843  2022          4         28   \n",
       "3  1515915625471138230-4437-6282242f27843  2022          4         28   \n",
       "4  1515915625471138230-4437-6282242f27843  2022          4         28   \n",
       "5  1515915625471640575-4301-627b661b67ac3  2022          2         18   \n",
       "6  1515915625490211585-4301-627b661843283  2022          2         18   \n",
       "7  1515915625490739153-4172-626b943cc789b  2022          2         18   \n",
       "8  1515915625491478747-4273-6274ceb769d59  2022       5562       5631   \n",
       "9  1515915625491651493-4437-6282242f2a9e2  2022       5562       5630   \n",
       "\n",
       "  category_3 category_4 category_5  \n",
       "0         57        431        NaN  \n",
       "1         57        431        NaN  \n",
       "2         57        431        NaN  \n",
       "3        244        432        NaN  \n",
       "4         49        413        NaN  \n",
       "5        258        441        NaN  \n",
       "6        341       1311        NaN  \n",
       "7        123        451        NaN  \n",
       "8       5549        667        NaN  \n",
       "9       5649        678        NaN  "
      ]
     },
     "execution_count": 24,
     "metadata": {},
     "output_type": "execute_result"
    }
   ],
   "source": [
    "df_purchases.head(10)"
   ]
  },
  {
   "cell_type": "markdown",
   "id": "27ad18da-8aca-48ad-9bba-dd782d2e1435",
   "metadata": {},
   "source": [
    "Проверим количество пропущенных значений в новых столбцах."
   ]
  },
  {
   "cell_type": "code",
   "execution_count": 25,
   "id": "c76d1355-c9f2-4c98-8332-44d232ccc017",
   "metadata": {},
   "outputs": [
    {
     "data": {
      "text/plain": [
       "client_id            0\n",
       "quantity             0\n",
       "price                0\n",
       "category_ids         0\n",
       "date                 0\n",
       "message_id           0\n",
       "year                 0\n",
       "category_1           0\n",
       "category_2        6843\n",
       "category_3        6843\n",
       "category_4        8199\n",
       "category_5      201690\n",
       "dtype: int64"
      ]
     },
     "execution_count": 25,
     "metadata": {},
     "output_type": "execute_result"
    }
   ],
   "source": [
    "df_purchases.isna().sum()"
   ]
  },
  {
   "cell_type": "markdown",
   "id": "7c92db1e-472c-4c2f-a21b-19d586f2e53d",
   "metadata": {},
   "source": [
    "Можно заметить, что в 5-й категории довольно много пропущенных значений. Из-за наличия такого большого количества пропусков данную категорию можно считать неинформативной, поэтому уберем эту категорию из таблицы, а в остальных категориях удалим записи с пропущенными значениями."
   ]
  },
  {
   "cell_type": "code",
   "execution_count": 26,
   "id": "811b1a6a-f13b-49f3-a01c-ddb12644a815",
   "metadata": {},
   "outputs": [
    {
     "name": "stdout",
     "output_type": "stream",
     "text": [
      "<class 'pandas.core.frame.DataFrame'>\n",
      "Index: 194009 entries, 0 to 202207\n",
      "Data columns (total 5 columns):\n",
      " #   Column      Non-Null Count   Dtype \n",
      "---  ------      --------------   ----- \n",
      " 0   client_id   194009 non-null  int64 \n",
      " 1   category_1  194009 non-null  object\n",
      " 2   category_2  194009 non-null  object\n",
      " 3   category_3  194009 non-null  object\n",
      " 4   category_4  194009 non-null  object\n",
      "dtypes: int64(1), object(4)\n",
      "memory usage: 8.9+ MB\n"
     ]
    },
    {
     "data": {
      "text/html": [
       "<div>\n",
       "<style scoped>\n",
       "    .dataframe tbody tr th:only-of-type {\n",
       "        vertical-align: middle;\n",
       "    }\n",
       "\n",
       "    .dataframe tbody tr th {\n",
       "        vertical-align: top;\n",
       "    }\n",
       "\n",
       "    .dataframe thead th {\n",
       "        text-align: right;\n",
       "    }\n",
       "</style>\n",
       "<table border=\"1\" class=\"dataframe\">\n",
       "  <thead>\n",
       "    <tr style=\"text-align: right;\">\n",
       "      <th></th>\n",
       "      <th>client_id</th>\n",
       "      <th>category_1</th>\n",
       "      <th>category_2</th>\n",
       "      <th>category_3</th>\n",
       "      <th>category_4</th>\n",
       "    </tr>\n",
       "  </thead>\n",
       "  <tbody>\n",
       "    <tr>\n",
       "      <th>0</th>\n",
       "      <td>1515915625468169594</td>\n",
       "      <td>4</td>\n",
       "      <td>28</td>\n",
       "      <td>57</td>\n",
       "      <td>431</td>\n",
       "    </tr>\n",
       "    <tr>\n",
       "      <th>1</th>\n",
       "      <td>1515915625468169594</td>\n",
       "      <td>4</td>\n",
       "      <td>28</td>\n",
       "      <td>57</td>\n",
       "      <td>431</td>\n",
       "    </tr>\n",
       "    <tr>\n",
       "      <th>2</th>\n",
       "      <td>1515915625471138230</td>\n",
       "      <td>4</td>\n",
       "      <td>28</td>\n",
       "      <td>57</td>\n",
       "      <td>431</td>\n",
       "    </tr>\n",
       "    <tr>\n",
       "      <th>3</th>\n",
       "      <td>1515915625471138230</td>\n",
       "      <td>4</td>\n",
       "      <td>28</td>\n",
       "      <td>244</td>\n",
       "      <td>432</td>\n",
       "    </tr>\n",
       "    <tr>\n",
       "      <th>4</th>\n",
       "      <td>1515915625471138230</td>\n",
       "      <td>4</td>\n",
       "      <td>28</td>\n",
       "      <td>49</td>\n",
       "      <td>413</td>\n",
       "    </tr>\n",
       "    <tr>\n",
       "      <th>5</th>\n",
       "      <td>1515915625471640575</td>\n",
       "      <td>2</td>\n",
       "      <td>18</td>\n",
       "      <td>258</td>\n",
       "      <td>441</td>\n",
       "    </tr>\n",
       "    <tr>\n",
       "      <th>6</th>\n",
       "      <td>1515915625490211585</td>\n",
       "      <td>2</td>\n",
       "      <td>18</td>\n",
       "      <td>341</td>\n",
       "      <td>1311</td>\n",
       "    </tr>\n",
       "    <tr>\n",
       "      <th>7</th>\n",
       "      <td>1515915625490739153</td>\n",
       "      <td>2</td>\n",
       "      <td>18</td>\n",
       "      <td>123</td>\n",
       "      <td>451</td>\n",
       "    </tr>\n",
       "    <tr>\n",
       "      <th>8</th>\n",
       "      <td>1515915625491478747</td>\n",
       "      <td>5562</td>\n",
       "      <td>5631</td>\n",
       "      <td>5549</td>\n",
       "      <td>667</td>\n",
       "    </tr>\n",
       "    <tr>\n",
       "      <th>9</th>\n",
       "      <td>1515915625491651493</td>\n",
       "      <td>5562</td>\n",
       "      <td>5630</td>\n",
       "      <td>5649</td>\n",
       "      <td>678</td>\n",
       "    </tr>\n",
       "  </tbody>\n",
       "</table>\n",
       "</div>"
      ],
      "text/plain": [
       "             client_id category_1 category_2 category_3 category_4\n",
       "0  1515915625468169594          4         28         57        431\n",
       "1  1515915625468169594          4         28         57        431\n",
       "2  1515915625471138230          4         28         57        431\n",
       "3  1515915625471138230          4         28        244        432\n",
       "4  1515915625471138230          4         28         49        413\n",
       "5  1515915625471640575          2         18        258        441\n",
       "6  1515915625490211585          2         18        341       1311\n",
       "7  1515915625490739153          2         18        123        451\n",
       "8  1515915625491478747       5562       5631       5549        667\n",
       "9  1515915625491651493       5562       5630       5649        678"
      ]
     },
     "execution_count": 26,
     "metadata": {},
     "output_type": "execute_result"
    }
   ],
   "source": [
    "df_category = df_purchases[['client_id', 'category_1', 'category_2', 'category_3', 'category_4']]\n",
    "df_category = df_category.dropna()\n",
    "df_category.info()\n",
    "df_category.head(10)"
   ]
  },
  {
   "cell_type": "markdown",
   "id": "f6dae96a-ed84-4124-8f93-452add49c4f2",
   "metadata": {},
   "source": [
    "Изменим тип данных у новых признаков."
   ]
  },
  {
   "cell_type": "code",
   "execution_count": 27,
   "id": "705da1d2-d82c-441e-9736-18d796e48d26",
   "metadata": {},
   "outputs": [
    {
     "name": "stdout",
     "output_type": "stream",
     "text": [
      "<class 'pandas.core.frame.DataFrame'>\n",
      "Index: 194009 entries, 0 to 202207\n",
      "Data columns (total 5 columns):\n",
      " #   Column      Non-Null Count   Dtype\n",
      "---  ------      --------------   -----\n",
      " 0   client_id   194009 non-null  int64\n",
      " 1   category_1  194009 non-null  int64\n",
      " 2   category_2  194009 non-null  int64\n",
      " 3   category_3  194009 non-null  int64\n",
      " 4   category_4  194009 non-null  int64\n",
      "dtypes: int64(5)\n",
      "memory usage: 8.9 MB\n"
     ]
    }
   ],
   "source": [
    "df_category[['client_id', 'category_1', 'category_2', 'category_3', 'category_4']] = df_category[['client_id', 'category_1', 'category_2', \n",
    "                                                                                               'category_3', 'category_4']].astype(int)\n",
    "df_category.info()"
   ]
  },
  {
   "cell_type": "markdown",
   "id": "4ee403e9-9474-400e-849f-5f4fd0ace595",
   "metadata": {},
   "source": [
    "Теперь посчитаем, сколько действий совершил каждый пользователь  по каналам рассылки."
   ]
  },
  {
   "cell_type": "code",
   "execution_count": 28,
   "id": "ddf0d224-eba3-4bf5-9f58-8287ecef4a50",
   "metadata": {},
   "outputs": [
    {
     "data": {
      "text/html": [
       "<div>\n",
       "<style scoped>\n",
       "    .dataframe tbody tr th:only-of-type {\n",
       "        vertical-align: middle;\n",
       "    }\n",
       "\n",
       "    .dataframe tbody tr th {\n",
       "        vertical-align: top;\n",
       "    }\n",
       "\n",
       "    .dataframe thead th {\n",
       "        text-align: right;\n",
       "    }\n",
       "</style>\n",
       "<table border=\"1\" class=\"dataframe\">\n",
       "  <thead>\n",
       "    <tr style=\"text-align: right;\">\n",
       "      <th>channel</th>\n",
       "      <th>client_id</th>\n",
       "      <th>email</th>\n",
       "      <th>mobile_push</th>\n",
       "    </tr>\n",
       "  </thead>\n",
       "  <tbody>\n",
       "    <tr>\n",
       "      <th>0</th>\n",
       "      <td>1515915625468060902</td>\n",
       "      <td>177</td>\n",
       "      <td>0</td>\n",
       "    </tr>\n",
       "    <tr>\n",
       "      <th>1</th>\n",
       "      <td>1515915625468061003</td>\n",
       "      <td>165</td>\n",
       "      <td>0</td>\n",
       "    </tr>\n",
       "    <tr>\n",
       "      <th>2</th>\n",
       "      <td>1515915625468061099</td>\n",
       "      <td>182</td>\n",
       "      <td>94</td>\n",
       "    </tr>\n",
       "    <tr>\n",
       "      <th>3</th>\n",
       "      <td>1515915625468061100</td>\n",
       "      <td>0</td>\n",
       "      <td>428</td>\n",
       "    </tr>\n",
       "    <tr>\n",
       "      <th>4</th>\n",
       "      <td>1515915625468061170</td>\n",
       "      <td>202</td>\n",
       "      <td>91</td>\n",
       "    </tr>\n",
       "    <tr>\n",
       "      <th>5</th>\n",
       "      <td>1515915625468061514</td>\n",
       "      <td>180</td>\n",
       "      <td>0</td>\n",
       "    </tr>\n",
       "    <tr>\n",
       "      <th>6</th>\n",
       "      <td>1515915625468061877</td>\n",
       "      <td>67</td>\n",
       "      <td>162</td>\n",
       "    </tr>\n",
       "    <tr>\n",
       "      <th>7</th>\n",
       "      <td>1515915625468061975</td>\n",
       "      <td>180</td>\n",
       "      <td>0</td>\n",
       "    </tr>\n",
       "    <tr>\n",
       "      <th>8</th>\n",
       "      <td>1515915625468061994</td>\n",
       "      <td>96</td>\n",
       "      <td>282</td>\n",
       "    </tr>\n",
       "    <tr>\n",
       "      <th>9</th>\n",
       "      <td>1515915625468062158</td>\n",
       "      <td>172</td>\n",
       "      <td>0</td>\n",
       "    </tr>\n",
       "  </tbody>\n",
       "</table>\n",
       "</div>"
      ],
      "text/plain": [
       "channel            client_id  email  mobile_push\n",
       "0        1515915625468060902    177            0\n",
       "1        1515915625468061003    165            0\n",
       "2        1515915625468061099    182           94\n",
       "3        1515915625468061100      0          428\n",
       "4        1515915625468061170    202           91\n",
       "5        1515915625468061514    180            0\n",
       "6        1515915625468061877     67          162\n",
       "7        1515915625468061975    180            0\n",
       "8        1515915625468061994     96          282\n",
       "9        1515915625468062158    172            0"
      ]
     },
     "execution_count": 28,
     "metadata": {},
     "output_type": "execute_result"
    }
   ],
   "source": [
    "channels_actions = pd.pivot_table(data=df_messages, index='client_id', columns='channel', aggfunc='size', fill_value=0).reset_index()\n",
    "channels_actions.head(10)"
   ]
  },
  {
   "cell_type": "markdown",
   "id": "ef1ebf5e-34ed-4aba-a0da-00668f29b059",
   "metadata": {},
   "source": [
    "Так же посчитаем число и сумму всех покупок для каждого клиента."
   ]
  },
  {
   "cell_type": "code",
   "execution_count": 29,
   "id": "224c1938-b021-49c3-a909-a0f680e4bf7b",
   "metadata": {},
   "outputs": [
    {
     "data": {
      "text/html": [
       "<div>\n",
       "<style scoped>\n",
       "    .dataframe tbody tr th:only-of-type {\n",
       "        vertical-align: middle;\n",
       "    }\n",
       "\n",
       "    .dataframe tbody tr th {\n",
       "        vertical-align: top;\n",
       "    }\n",
       "\n",
       "    .dataframe thead th {\n",
       "        text-align: right;\n",
       "    }\n",
       "</style>\n",
       "<table border=\"1\" class=\"dataframe\">\n",
       "  <thead>\n",
       "    <tr style=\"text-align: right;\">\n",
       "      <th></th>\n",
       "      <th>client_id</th>\n",
       "      <th>all_purchases</th>\n",
       "    </tr>\n",
       "  </thead>\n",
       "  <tbody>\n",
       "    <tr>\n",
       "      <th>0</th>\n",
       "      <td>1515915625468060902</td>\n",
       "      <td>7</td>\n",
       "    </tr>\n",
       "    <tr>\n",
       "      <th>1</th>\n",
       "      <td>1515915625468061003</td>\n",
       "      <td>7</td>\n",
       "    </tr>\n",
       "    <tr>\n",
       "      <th>2</th>\n",
       "      <td>1515915625468061099</td>\n",
       "      <td>1</td>\n",
       "    </tr>\n",
       "    <tr>\n",
       "      <th>3</th>\n",
       "      <td>1515915625468061100</td>\n",
       "      <td>2</td>\n",
       "    </tr>\n",
       "    <tr>\n",
       "      <th>4</th>\n",
       "      <td>1515915625468061170</td>\n",
       "      <td>19</td>\n",
       "    </tr>\n",
       "  </tbody>\n",
       "</table>\n",
       "</div>"
      ],
      "text/plain": [
       "             client_id  all_purchases\n",
       "0  1515915625468060902              7\n",
       "1  1515915625468061003              7\n",
       "2  1515915625468061099              1\n",
       "3  1515915625468061100              2\n",
       "4  1515915625468061170             19"
      ]
     },
     "metadata": {},
     "output_type": "display_data"
    },
    {
     "data": {
      "text/html": [
       "<div>\n",
       "<style scoped>\n",
       "    .dataframe tbody tr th:only-of-type {\n",
       "        vertical-align: middle;\n",
       "    }\n",
       "\n",
       "    .dataframe tbody tr th {\n",
       "        vertical-align: top;\n",
       "    }\n",
       "\n",
       "    .dataframe thead th {\n",
       "        text-align: right;\n",
       "    }\n",
       "</style>\n",
       "<table border=\"1\" class=\"dataframe\">\n",
       "  <thead>\n",
       "    <tr style=\"text-align: right;\">\n",
       "      <th></th>\n",
       "      <th>client_id</th>\n",
       "      <th>sum_total</th>\n",
       "    </tr>\n",
       "  </thead>\n",
       "  <tbody>\n",
       "    <tr>\n",
       "      <th>0</th>\n",
       "      <td>1515915625468060902</td>\n",
       "      <td>6993.0</td>\n",
       "    </tr>\n",
       "    <tr>\n",
       "      <th>1</th>\n",
       "      <td>1515915625468061003</td>\n",
       "      <td>16235.0</td>\n",
       "    </tr>\n",
       "    <tr>\n",
       "      <th>2</th>\n",
       "      <td>1515915625468061099</td>\n",
       "      <td>299.0</td>\n",
       "    </tr>\n",
       "    <tr>\n",
       "      <th>3</th>\n",
       "      <td>1515915625468061100</td>\n",
       "      <td>2098.0</td>\n",
       "    </tr>\n",
       "    <tr>\n",
       "      <th>4</th>\n",
       "      <td>1515915625468061170</td>\n",
       "      <td>33601.0</td>\n",
       "    </tr>\n",
       "  </tbody>\n",
       "</table>\n",
       "</div>"
      ],
      "text/plain": [
       "             client_id  sum_total\n",
       "0  1515915625468060902     6993.0\n",
       "1  1515915625468061003    16235.0\n",
       "2  1515915625468061099      299.0\n",
       "3  1515915625468061100     2098.0\n",
       "4  1515915625468061170    33601.0"
      ]
     },
     "execution_count": 29,
     "metadata": {},
     "output_type": "execute_result"
    }
   ],
   "source": [
    "all_purchases = df_purchases.groupby('client_id')['client_id'].count().reset_index(name='all_purchases')\n",
    "sum_total = df_purchases.groupby('client_id')['price'].sum().reset_index(name='sum_total')\n",
    "display(all_purchases.head())\n",
    "sum_total.head()"
   ]
  },
  {
   "cell_type": "markdown",
   "id": "cc4a5fd0-2fa1-4b83-9913-d86d6cb877be",
   "metadata": {},
   "source": [
    "Мы создали новые признаки, теперь объеденим их в одну таблицу."
   ]
  },
  {
   "cell_type": "code",
   "execution_count": 30,
   "id": "cf0bc2ec-b39e-4473-a3be-27624bcd4b7f",
   "metadata": {},
   "outputs": [
    {
     "data": {
      "text/html": [
       "<div>\n",
       "<style scoped>\n",
       "    .dataframe tbody tr th:only-of-type {\n",
       "        vertical-align: middle;\n",
       "    }\n",
       "\n",
       "    .dataframe tbody tr th {\n",
       "        vertical-align: top;\n",
       "    }\n",
       "\n",
       "    .dataframe thead th {\n",
       "        text-align: right;\n",
       "    }\n",
       "</style>\n",
       "<table border=\"1\" class=\"dataframe\">\n",
       "  <thead>\n",
       "    <tr style=\"text-align: right;\">\n",
       "      <th></th>\n",
       "      <th>client_id</th>\n",
       "      <th>all_purchases</th>\n",
       "      <th>category_1</th>\n",
       "      <th>category_2</th>\n",
       "      <th>category_3</th>\n",
       "      <th>category_4</th>\n",
       "      <th>click</th>\n",
       "      <th>close</th>\n",
       "      <th>complain</th>\n",
       "      <th>hard_bounce</th>\n",
       "      <th>...</th>\n",
       "      <th>open</th>\n",
       "      <th>purchase</th>\n",
       "      <th>send</th>\n",
       "      <th>soft_bounce</th>\n",
       "      <th>subscribe</th>\n",
       "      <th>unsubscribe</th>\n",
       "      <th>email</th>\n",
       "      <th>mobile_push</th>\n",
       "      <th>sum_total</th>\n",
       "      <th>target</th>\n",
       "    </tr>\n",
       "  </thead>\n",
       "  <tbody>\n",
       "    <tr>\n",
       "      <th>0</th>\n",
       "      <td>1515915625468060902</td>\n",
       "      <td>7</td>\n",
       "      <td>4</td>\n",
       "      <td>27</td>\n",
       "      <td>176</td>\n",
       "      <td>458</td>\n",
       "      <td>10</td>\n",
       "      <td>0</td>\n",
       "      <td>0</td>\n",
       "      <td>0</td>\n",
       "      <td>...</td>\n",
       "      <td>35</td>\n",
       "      <td>5</td>\n",
       "      <td>126</td>\n",
       "      <td>0</td>\n",
       "      <td>0</td>\n",
       "      <td>1</td>\n",
       "      <td>177</td>\n",
       "      <td>0</td>\n",
       "      <td>6993.0</td>\n",
       "      <td>0</td>\n",
       "    </tr>\n",
       "    <tr>\n",
       "      <th>1</th>\n",
       "      <td>1515915625468060902</td>\n",
       "      <td>7</td>\n",
       "      <td>4</td>\n",
       "      <td>28</td>\n",
       "      <td>260</td>\n",
       "      <td>420</td>\n",
       "      <td>10</td>\n",
       "      <td>0</td>\n",
       "      <td>0</td>\n",
       "      <td>0</td>\n",
       "      <td>...</td>\n",
       "      <td>35</td>\n",
       "      <td>5</td>\n",
       "      <td>126</td>\n",
       "      <td>0</td>\n",
       "      <td>0</td>\n",
       "      <td>1</td>\n",
       "      <td>177</td>\n",
       "      <td>0</td>\n",
       "      <td>6993.0</td>\n",
       "      <td>0</td>\n",
       "    </tr>\n",
       "    <tr>\n",
       "      <th>2</th>\n",
       "      <td>1515915625468060902</td>\n",
       "      <td>7</td>\n",
       "      <td>4</td>\n",
       "      <td>27</td>\n",
       "      <td>1828</td>\n",
       "      <td>1599</td>\n",
       "      <td>10</td>\n",
       "      <td>0</td>\n",
       "      <td>0</td>\n",
       "      <td>0</td>\n",
       "      <td>...</td>\n",
       "      <td>35</td>\n",
       "      <td>5</td>\n",
       "      <td>126</td>\n",
       "      <td>0</td>\n",
       "      <td>0</td>\n",
       "      <td>1</td>\n",
       "      <td>177</td>\n",
       "      <td>0</td>\n",
       "      <td>6993.0</td>\n",
       "      <td>0</td>\n",
       "    </tr>\n",
       "    <tr>\n",
       "      <th>3</th>\n",
       "      <td>1515915625468060902</td>\n",
       "      <td>7</td>\n",
       "      <td>4</td>\n",
       "      <td>28</td>\n",
       "      <td>260</td>\n",
       "      <td>420</td>\n",
       "      <td>10</td>\n",
       "      <td>0</td>\n",
       "      <td>0</td>\n",
       "      <td>0</td>\n",
       "      <td>...</td>\n",
       "      <td>35</td>\n",
       "      <td>5</td>\n",
       "      <td>126</td>\n",
       "      <td>0</td>\n",
       "      <td>0</td>\n",
       "      <td>1</td>\n",
       "      <td>177</td>\n",
       "      <td>0</td>\n",
       "      <td>6993.0</td>\n",
       "      <td>0</td>\n",
       "    </tr>\n",
       "    <tr>\n",
       "      <th>4</th>\n",
       "      <td>1515915625468060902</td>\n",
       "      <td>7</td>\n",
       "      <td>4</td>\n",
       "      <td>27</td>\n",
       "      <td>176</td>\n",
       "      <td>458</td>\n",
       "      <td>10</td>\n",
       "      <td>0</td>\n",
       "      <td>0</td>\n",
       "      <td>0</td>\n",
       "      <td>...</td>\n",
       "      <td>35</td>\n",
       "      <td>5</td>\n",
       "      <td>126</td>\n",
       "      <td>0</td>\n",
       "      <td>0</td>\n",
       "      <td>1</td>\n",
       "      <td>177</td>\n",
       "      <td>0</td>\n",
       "      <td>6993.0</td>\n",
       "      <td>0</td>\n",
       "    </tr>\n",
       "    <tr>\n",
       "      <th>5</th>\n",
       "      <td>1515915625468060902</td>\n",
       "      <td>7</td>\n",
       "      <td>4</td>\n",
       "      <td>28</td>\n",
       "      <td>290</td>\n",
       "      <td>422</td>\n",
       "      <td>10</td>\n",
       "      <td>0</td>\n",
       "      <td>0</td>\n",
       "      <td>0</td>\n",
       "      <td>...</td>\n",
       "      <td>35</td>\n",
       "      <td>5</td>\n",
       "      <td>126</td>\n",
       "      <td>0</td>\n",
       "      <td>0</td>\n",
       "      <td>1</td>\n",
       "      <td>177</td>\n",
       "      <td>0</td>\n",
       "      <td>6993.0</td>\n",
       "      <td>0</td>\n",
       "    </tr>\n",
       "    <tr>\n",
       "      <th>6</th>\n",
       "      <td>1515915625468060902</td>\n",
       "      <td>7</td>\n",
       "      <td>4</td>\n",
       "      <td>28</td>\n",
       "      <td>244</td>\n",
       "      <td>432</td>\n",
       "      <td>10</td>\n",
       "      <td>0</td>\n",
       "      <td>0</td>\n",
       "      <td>0</td>\n",
       "      <td>...</td>\n",
       "      <td>35</td>\n",
       "      <td>5</td>\n",
       "      <td>126</td>\n",
       "      <td>0</td>\n",
       "      <td>0</td>\n",
       "      <td>1</td>\n",
       "      <td>177</td>\n",
       "      <td>0</td>\n",
       "      <td>6993.0</td>\n",
       "      <td>0</td>\n",
       "    </tr>\n",
       "    <tr>\n",
       "      <th>7</th>\n",
       "      <td>1515915625468061003</td>\n",
       "      <td>7</td>\n",
       "      <td>4</td>\n",
       "      <td>28</td>\n",
       "      <td>249</td>\n",
       "      <td>615</td>\n",
       "      <td>5</td>\n",
       "      <td>0</td>\n",
       "      <td>0</td>\n",
       "      <td>0</td>\n",
       "      <td>...</td>\n",
       "      <td>5</td>\n",
       "      <td>1</td>\n",
       "      <td>154</td>\n",
       "      <td>0</td>\n",
       "      <td>0</td>\n",
       "      <td>0</td>\n",
       "      <td>165</td>\n",
       "      <td>0</td>\n",
       "      <td>16235.0</td>\n",
       "      <td>1</td>\n",
       "    </tr>\n",
       "    <tr>\n",
       "      <th>8</th>\n",
       "      <td>1515915625468061003</td>\n",
       "      <td>7</td>\n",
       "      <td>4</td>\n",
       "      <td>28</td>\n",
       "      <td>249</td>\n",
       "      <td>615</td>\n",
       "      <td>5</td>\n",
       "      <td>0</td>\n",
       "      <td>0</td>\n",
       "      <td>0</td>\n",
       "      <td>...</td>\n",
       "      <td>5</td>\n",
       "      <td>1</td>\n",
       "      <td>154</td>\n",
       "      <td>0</td>\n",
       "      <td>0</td>\n",
       "      <td>0</td>\n",
       "      <td>165</td>\n",
       "      <td>0</td>\n",
       "      <td>16235.0</td>\n",
       "      <td>1</td>\n",
       "    </tr>\n",
       "    <tr>\n",
       "      <th>9</th>\n",
       "      <td>1515915625468061003</td>\n",
       "      <td>7</td>\n",
       "      <td>4</td>\n",
       "      <td>28</td>\n",
       "      <td>249</td>\n",
       "      <td>615</td>\n",
       "      <td>5</td>\n",
       "      <td>0</td>\n",
       "      <td>0</td>\n",
       "      <td>0</td>\n",
       "      <td>...</td>\n",
       "      <td>5</td>\n",
       "      <td>1</td>\n",
       "      <td>154</td>\n",
       "      <td>0</td>\n",
       "      <td>0</td>\n",
       "      <td>0</td>\n",
       "      <td>165</td>\n",
       "      <td>0</td>\n",
       "      <td>16235.0</td>\n",
       "      <td>1</td>\n",
       "    </tr>\n",
       "  </tbody>\n",
       "</table>\n",
       "<p>10 rows × 21 columns</p>\n",
       "</div>"
      ],
      "text/plain": [
       "             client_id  all_purchases  category_1  category_2  category_3  \\\n",
       "0  1515915625468060902              7           4          27         176   \n",
       "1  1515915625468060902              7           4          28         260   \n",
       "2  1515915625468060902              7           4          27        1828   \n",
       "3  1515915625468060902              7           4          28         260   \n",
       "4  1515915625468060902              7           4          27         176   \n",
       "5  1515915625468060902              7           4          28         290   \n",
       "6  1515915625468060902              7           4          28         244   \n",
       "7  1515915625468061003              7           4          28         249   \n",
       "8  1515915625468061003              7           4          28         249   \n",
       "9  1515915625468061003              7           4          28         249   \n",
       "\n",
       "   category_4  click  close  complain  hard_bounce  ...  open  purchase  send  \\\n",
       "0         458     10      0         0            0  ...    35         5   126   \n",
       "1         420     10      0         0            0  ...    35         5   126   \n",
       "2        1599     10      0         0            0  ...    35         5   126   \n",
       "3         420     10      0         0            0  ...    35         5   126   \n",
       "4         458     10      0         0            0  ...    35         5   126   \n",
       "5         422     10      0         0            0  ...    35         5   126   \n",
       "6         432     10      0         0            0  ...    35         5   126   \n",
       "7         615      5      0         0            0  ...     5         1   154   \n",
       "8         615      5      0         0            0  ...     5         1   154   \n",
       "9         615      5      0         0            0  ...     5         1   154   \n",
       "\n",
       "   soft_bounce  subscribe  unsubscribe  email  mobile_push  sum_total  target  \n",
       "0            0          0            1    177            0     6993.0       0  \n",
       "1            0          0            1    177            0     6993.0       0  \n",
       "2            0          0            1    177            0     6993.0       0  \n",
       "3            0          0            1    177            0     6993.0       0  \n",
       "4            0          0            1    177            0     6993.0       0  \n",
       "5            0          0            1    177            0     6993.0       0  \n",
       "6            0          0            1    177            0     6993.0       0  \n",
       "7            0          0            0    165            0    16235.0       1  \n",
       "8            0          0            0    165            0    16235.0       1  \n",
       "9            0          0            0    165            0    16235.0       1  \n",
       "\n",
       "[10 rows x 21 columns]"
      ]
     },
     "execution_count": 30,
     "metadata": {},
     "output_type": "execute_result"
    }
   ],
   "source": [
    "final_df = all_purchases.merge(df_category, on='client_id').merge(actions_count, on='client_id')\n",
    "final_df = final_df.merge(channels_actions, on='client_id').merge(sum_total, on='client_id')\n",
    "final_df = final_df.merge(df_target, on='client_id')\n",
    "final_df.head(10)"
   ]
  },
  {
   "cell_type": "markdown",
   "id": "9b938d45-ca04-414b-a9ac-57a328233c57",
   "metadata": {},
   "source": [
    "В итоне у нас имеется таблица с новыми признаками, которые могут помочь модели обучиться и с хорошей точностью делать предсказания. Осталось лишь проверить данную таблицу на наличие дубликатов и убрать столбец **client_id**, поскольку при обучении модели он не понадобится."
   ]
  },
  {
   "cell_type": "code",
   "execution_count": 31,
   "id": "1ff7d216-4d03-4d72-948a-1c86cb160569",
   "metadata": {},
   "outputs": [],
   "source": [
    "final_df = final_df.drop(['client_id'], axis=1)"
   ]
  },
  {
   "cell_type": "code",
   "execution_count": 32,
   "id": "2350f748-4112-44e3-8c77-33fb5299b5be",
   "metadata": {},
   "outputs": [
    {
     "name": "stdout",
     "output_type": "stream",
     "text": [
      "<class 'pandas.core.frame.DataFrame'>\n",
      "RangeIndex: 159946 entries, 0 to 159945\n",
      "Data columns (total 20 columns):\n",
      " #   Column         Non-Null Count   Dtype  \n",
      "---  ------         --------------   -----  \n",
      " 0   all_purchases  159946 non-null  int64  \n",
      " 1   category_1     159946 non-null  int64  \n",
      " 2   category_2     159946 non-null  int64  \n",
      " 3   category_3     159946 non-null  int64  \n",
      " 4   category_4     159946 non-null  int64  \n",
      " 5   click          159946 non-null  int64  \n",
      " 6   close          159946 non-null  int64  \n",
      " 7   complain       159946 non-null  int64  \n",
      " 8   hard_bounce    159946 non-null  int64  \n",
      " 9   hbq_spam       159946 non-null  int64  \n",
      " 10  open           159946 non-null  int64  \n",
      " 11  purchase       159946 non-null  int64  \n",
      " 12  send           159946 non-null  int64  \n",
      " 13  soft_bounce    159946 non-null  int64  \n",
      " 14  subscribe      159946 non-null  int64  \n",
      " 15  unsubscribe    159946 non-null  int64  \n",
      " 16  email          159946 non-null  int64  \n",
      " 17  mobile_push    159946 non-null  int64  \n",
      " 18  sum_total      159946 non-null  float64\n",
      " 19  target         159946 non-null  int64  \n",
      "dtypes: float64(1), int64(19)\n",
      "memory usage: 24.4 MB\n"
     ]
    },
    {
     "data": {
      "text/plain": [
       "None"
      ]
     },
     "metadata": {},
     "output_type": "display_data"
    },
    {
     "name": "stdout",
     "output_type": "stream",
     "text": [
      "Количество дубликатов в итоговой таблице: 83448\n"
     ]
    }
   ],
   "source": [
    "display(final_df.info())\n",
    "print('Количество дубликатов в итоговой таблице:', final_df.duplicated().sum())"
   ]
  },
  {
   "cell_type": "markdown",
   "id": "02177a7c-c9fe-46b3-88e8-37fc9079f348",
   "metadata": {},
   "source": [
    "Удалим данные дубликаты."
   ]
  },
  {
   "cell_type": "code",
   "execution_count": 33,
   "id": "a3f74060-9244-4045-887a-5c6c30a4e458",
   "metadata": {},
   "outputs": [
    {
     "name": "stdout",
     "output_type": "stream",
     "text": [
      "Количество дубликатов в итоговой таблице: 0\n"
     ]
    }
   ],
   "source": [
    "final_df = final_df.drop_duplicates()\n",
    "print('Количество дубликатов в итоговой таблице:', final_df.duplicated().sum())"
   ]
  },
  {
   "cell_type": "code",
   "execution_count": 34,
   "id": "cc4d8767-a864-45ba-ba67-a46e653322e7",
   "metadata": {},
   "outputs": [
    {
     "data": {
      "text/plain": [
       "all_purchases    0\n",
       "category_1       0\n",
       "category_2       0\n",
       "category_3       0\n",
       "category_4       0\n",
       "click            0\n",
       "close            0\n",
       "complain         0\n",
       "hard_bounce      0\n",
       "hbq_spam         0\n",
       "open             0\n",
       "purchase         0\n",
       "send             0\n",
       "soft_bounce      0\n",
       "subscribe        0\n",
       "unsubscribe      0\n",
       "email            0\n",
       "mobile_push      0\n",
       "sum_total        0\n",
       "target           0\n",
       "dtype: int64"
      ]
     },
     "execution_count": 34,
     "metadata": {},
     "output_type": "execute_result"
    }
   ],
   "source": [
    "final_df.isna().sum()"
   ]
  },
  {
   "cell_type": "markdown",
   "id": "45b38d65-a50d-46d6-8a48-b31272956a18",
   "metadata": {},
   "source": [
    "**Вывод:**  \n",
    "  \n",
    "По итогу проведенной работы мы проанализировали имеющиеся данные, провели предобработку данных и создали новые признаки. Далее выведем матрицу корреляции и посмотрим на зависимости признаков."
   ]
  },
  {
   "cell_type": "code",
   "execution_count": 35,
   "id": "22412a71-d19a-4b97-b58e-fde979346685",
   "metadata": {},
   "outputs": [
    {
     "data": {
      "image/png": "[encoded data removed]",
      "text/plain": [
       "<Figure size 1200x600 with 2 Axes>"
      ]
     },
     "metadata": {},
     "output_type": "display_data"
    }
   ],
   "source": [
    "correlation_matrix = final_df.corr(method='spearman')\n",
    "plt.figure(figsize=(12, 6))\n",
    "sns.heatmap(correlation_matrix, annot=True, cmap='coolwarm', fmt='.2f')\n",
    "plt.title('Матрица корреляции')\n",
    "plt.show()"
   ]
  },
  {
   "cell_type": "markdown",
   "id": "fc7a8d8f-3f87-40d3-b344-7ca8ff19c65e",
   "metadata": {},
   "source": [
    "**Вывод:**  \n",
    "\n",
    "Можно сразу заметить, что категории между собой довольно сильно коррелируют, поэтому оставим только одну из них. А у целевого признака самая \"высокая\" корреляция только с признаками **all_purchases, click, purchase, open, mobile_push и sum_total**. Однако сами показатели корреляции не больше 0.2."
   ]
  },
  {
   "cell_type": "code",
   "execution_count": 36,
   "id": "7b98ab61-3aa9-4193-8161-b317582d0789",
   "metadata": {},
   "outputs": [],
   "source": [
    "final_df = final_df.drop(['category_2', 'category_3', 'category_4'], axis=1).reset_index(drop=True)"
   ]
  },
  {
   "cell_type": "markdown",
   "id": "2c4b7e4a-d661-4020-9f05-7aba80e695dd",
   "metadata": {},
   "source": [
    "## 4. Создадим модель для классификации пользователей"
   ]
  },
  {
   "cell_type": "code",
   "execution_count": 37,
   "id": "5548d667-0af2-4574-959c-29a078d409de",
   "metadata": {},
   "outputs": [
    {
     "name": "stdout",
     "output_type": "stream",
     "text": [
      "<class 'pandas.core.frame.DataFrame'>\n",
      "RangeIndex: 76498 entries, 0 to 76497\n",
      "Data columns (total 17 columns):\n",
      " #   Column         Non-Null Count  Dtype  \n",
      "---  ------         --------------  -----  \n",
      " 0   all_purchases  76498 non-null  int64  \n",
      " 1   category_1     76498 non-null  int64  \n",
      " 2   click          76498 non-null  int64  \n",
      " 3   close          76498 non-null  int64  \n",
      " 4   complain       76498 non-null  int64  \n",
      " 5   hard_bounce    76498 non-null  int64  \n",
      " 6   hbq_spam       76498 non-null  int64  \n",
      " 7   open           76498 non-null  int64  \n",
      " 8   purchase       76498 non-null  int64  \n",
      " 9   send           76498 non-null  int64  \n",
      " 10  soft_bounce    76498 non-null  int64  \n",
      " 11  subscribe      76498 non-null  int64  \n",
      " 12  unsubscribe    76498 non-null  int64  \n",
      " 13  email          76498 non-null  int64  \n",
      " 14  mobile_push    76498 non-null  int64  \n",
      " 15  sum_total      76498 non-null  float64\n",
      " 16  target         76498 non-null  int64  \n",
      "dtypes: float64(1), int64(16)\n",
      "memory usage: 9.9 MB\n"
     ]
    }
   ],
   "source": [
    "final_df.info()"
   ]
  },
  {
   "cell_type": "code",
   "execution_count": 38,
   "id": "d491a01f-ed04-4b9b-b714-d30df9ae954f",
   "metadata": {},
   "outputs": [],
   "source": [
    "X = final_df.drop(['target'], axis=1)\n",
    "y = final_df['target']\n",
    "\n",
    "X_train, X_test, y_train, y_test = train_test_split(\n",
    "    X,\n",
    "    y,\n",
    "    random_state=RANDOM_STATE,\n",
    "    test_size=TEST_SIZE,\n",
    "    stratify=y\n",
    ")"
   ]
  },
  {
   "cell_type": "code",
   "execution_count": 39,
   "id": "2f93f9d1-66aa-418d-9238-e2b9b1a2fd42",
   "metadata": {},
   "outputs": [
    {
     "data": {
      "text/plain": [
       "(61198, 16)"
      ]
     },
     "metadata": {},
     "output_type": "display_data"
    },
    {
     "data": {
      "text/plain": [
       "(15300, 16)"
      ]
     },
     "execution_count": 39,
     "metadata": {},
     "output_type": "execute_result"
    }
   ],
   "source": [
    "display(X_train.shape)\n",
    "X_test.shape"
   ]
  },
  {
   "cell_type": "code",
   "execution_count": 40,
   "id": "b3d9080d-9239-48e6-9539-ec16da9424ce",
   "metadata": {},
   "outputs": [],
   "source": [
    "num_cols = X.select_dtypes(include='number').columns.tolist()\n",
    "ohe_cols = X.select_dtypes(include='object').columns.tolist()"
   ]
  },
  {
   "cell_type": "code",
   "execution_count": 41,
   "id": "b4adb804-d5ee-48bc-949f-875df3678a07",
   "metadata": {},
   "outputs": [],
   "source": [
    "data_preprocessor = ColumnTransformer(\n",
    "    [\n",
    "        ('num', MinMaxScaler(), num_cols)\n",
    "    ], \n",
    "    remainder='passthrough'\n",
    ") "
   ]
  },
  {
   "cell_type": "code",
   "execution_count": 42,
   "id": "6fcef453-cb71-4a97-b034-120fe93fc977",
   "metadata": {},
   "outputs": [],
   "source": [
    "pipe_final = Pipeline(\n",
    "    [\n",
    "        ('preprocessor', data_preprocessor),\n",
    "        ('models', LinearRegression())\n",
    "    ]\n",
    ")"
   ]
  },
  {
   "cell_type": "code",
   "execution_count": 43,
   "id": "7e30f8e1-8771-40ba-8277-b0f2c4516e9b",
   "metadata": {},
   "outputs": [],
   "source": [
    "param_grid = [\n",
    "    {\n",
    "        'models': [KNeighborsClassifier()],\n",
    "        'models__n_neighbors': range(2, 6),\n",
    "        'preprocessor__num': [StandardScaler(), MinMaxScaler(), 'passthrough']\n",
    "    },\n",
    "    {\n",
    "        'models': [CatBoostClassifier(random_state=RANDOM_STATE, silent=True)],\n",
    "        'models__depth': range(2, 6),\n",
    "        'models__learning_rate': [0.01, 0.05, 0.1],\n",
    "        'models__iterations': [100, 150, 200],\n",
    "        'preprocessor__num': [StandardScaler(), MinMaxScaler(), 'passthrough']\n",
    "    },\n",
    "    {\n",
    "        'models': [LogisticRegression(random_state=RANDOM_STATE, penalty='l1', class_weight='balanced', solver='liblinear')],\n",
    "        'models__C': range(2, 6),\n",
    "        'preprocessor__num': [StandardScaler(), MinMaxScaler(), 'passthrough']\n",
    "    },\n",
    "    {\n",
    "        'models': [LGBMClassifier(random_state=RANDOM_STATE, class_weight='balanced')],\n",
    "        'models__learning_rate': [0.01, 0.05, 0.1],\n",
    "        'models__n_estimators': [50, 250, 500],\n",
    "        'models__num_leaves': [31, 45, 70],\n",
    "        'preprocessor__num': [StandardScaler(), MinMaxScaler(), 'passthrough']\n",
    "    }\n",
    "]"
   ]
  },
  {
   "cell_type": "code",
   "execution_count": 44,
   "id": "cba2aeb3-7418-4d71-97aa-737bde6f2a20",
   "metadata": {},
   "outputs": [],
   "source": [
    "randomized_search = RandomizedSearchCV(\n",
    "    pipe_final,\n",
    "    param_grid,\n",
    "    scoring='roc_auc',\n",
    "    cv=5,\n",
    "    n_jobs=-1,\n",
    "    random_state=RANDOM_STATE\n",
    ")"
   ]
  },
  {
   "cell_type": "code",
   "execution_count": 45,
   "id": "a96557f2-eed7-48a7-90bb-94b7620d56ff",
   "metadata": {},
   "outputs": [
    {
     "name": "stderr",
     "output_type": "stream",
     "text": [
      "C:\\Users\\pavli\\AppData\\Local\\Programs\\Python\\Python313\\Lib\\site-packages\\joblib\\externals\\loky\\backend\\context.py:136: UserWarning: Could not find the number of physical cores for the following reason:\n",
      "[WinError 2] Не удается найти указанный файл\n",
      "Returning the number of logical cores instead. You can silence this warning by setting LOKY_MAX_CPU_COUNT to the number of cores you want to use.\n",
      "  warnings.warn(\n",
      "  File \"C:\\Users\\pavli\\AppData\\Local\\Programs\\Python\\Python313\\Lib\\site-packages\\joblib\\externals\\loky\\backend\\context.py\", line 257, in _count_physical_cores\n",
      "    cpu_info = subprocess.run(\n",
      "        \"wmic CPU Get NumberOfCores /Format:csv\".split(),\n",
      "        capture_output=True,\n",
      "        text=True,\n",
      "    )\n",
      "  File \"C:\\Users\\pavli\\AppData\\Local\\Programs\\Python\\Python313\\Lib\\subprocess.py\", line 556, in run\n",
      "    with Popen(*popenargs, **kwargs) as process:\n",
      "         ~~~~~^^^^^^^^^^^^^^^^^^^^^^\n",
      "  File \"C:\\Users\\pavli\\AppData\\Local\\Programs\\Python\\Python313\\Lib\\subprocess.py\", line 1038, in __init__\n",
      "    self._execute_child(args, executable, preexec_fn, close_fds,\n",
      "    ~~~~~~~~~~~~~~~~~~~^^^^^^^^^^^^^^^^^^^^^^^^^^^^^^^^^^^^^^^^^\n",
      "                        pass_fds, cwd, env,\n",
      "                        ^^^^^^^^^^^^^^^^^^^\n",
      "    ...<5 lines>...\n",
      "                        gid, gids, uid, umask,\n",
      "                        ^^^^^^^^^^^^^^^^^^^^^^\n",
      "                        start_new_session, process_group)\n",
      "                        ^^^^^^^^^^^^^^^^^^^^^^^^^^^^^^^^^\n",
      "  File \"C:\\Users\\pavli\\AppData\\Local\\Programs\\Python\\Python313\\Lib\\subprocess.py\", line 1550, in _execute_child\n",
      "    hp, ht, pid, tid = _winapi.CreateProcess(executable, args,\n",
      "                       ~~~~~~~~~~~~~~~~~~~~~^^^^^^^^^^^^^^^^^^\n",
      "                             # no special security\n",
      "                             ^^^^^^^^^^^^^^^^^^^^^\n",
      "    ...<4 lines>...\n",
      "                             cwd,\n",
      "                             ^^^^\n",
      "                             startupinfo)\n",
      "                             ^^^^^^^^^^^^\n"
     ]
    },
    {
     "name": "stdout",
     "output_type": "stream",
     "text": [
      "[LightGBM] [Info] Number of positive: 1823, number of negative: 59375\n",
      "[LightGBM] [Info] Auto-choosing row-wise multi-threading, the overhead of testing was 0.000910 seconds.\n",
      "You can set `force_row_wise=true` to remove the overhead.\n",
      "And if memory is not enough, you can set `force_col_wise=true`.\n",
      "[LightGBM] [Info] Total Bins 1632\n",
      "[LightGBM] [Info] Number of data points in the train set: 61198, number of used features: 15\n",
      "[LightGBM] [Info] [binary:BoostFromScore]: pavg=0.500000 -> initscore=-0.000000\n",
      "[LightGBM] [Info] Start training from score -0.000000\n",
      "Параметры лучшей модели: Pipeline(steps=[('preprocessor',\n",
      "                 ColumnTransformer(remainder='passthrough',\n",
      "                                   transformers=[('num', 'passthrough',\n",
      "                                                  ['all_purchases',\n",
      "                                                   'category_1', 'click',\n",
      "                                                   'close', 'complain',\n",
      "                                                   'hard_bounce', 'hbq_spam',\n",
      "                                                   'open', 'purchase', 'send',\n",
      "                                                   'soft_bounce', 'subscribe',\n",
      "                                                   'unsubscribe', 'email',\n",
      "                                                   'mobile_push',\n",
      "                                                   'sum_total'])])),\n",
      "                ('models',\n",
      "                 LGBMClassifier(class_weight='balanced', n_estimators=250,\n",
      "                                random_state=42))])\n",
      "Метрика ROC-AUC на тренировочных данных: 0.8969112176758454\n"
     ]
    }
   ],
   "source": [
    "randomized_search.fit(X_train, y_train)\n",
    "\n",
    "print('Параметры лучшей модели:', randomized_search.best_estimator_)\n",
    "print('Метрика ROC-AUC на тренировочных данных:', randomized_search.best_score_)"
   ]
  },
  {
   "cell_type": "markdown",
   "id": "c7fdce21-04fd-4a41-9fc8-b54944c18d41",
   "metadata": {},
   "source": [
    "**Вывод:**  \n",
    "\n",
    "В итоге лучшей моделью оказалась LGBMClassifier с параметрами n_estimators=250 и random_state=42. Показатель метрики ROC-AUC на тренировочных данных составил 0.89."
   ]
  },
  {
   "cell_type": "code",
   "execution_count": 46,
   "id": "9eaf5d20-4918-424b-9207-fb12fa996344",
   "metadata": {},
   "outputs": [
    {
     "name": "stdout",
     "output_type": "stream",
     "text": [
      "Метрика ROC-AUC на тестовых данных: 0.9015125728630387\n"
     ]
    },
    {
     "name": "stderr",
     "output_type": "stream",
     "text": [
      "C:\\Users\\pavli\\AppData\\Local\\Programs\\Python\\Python313\\Lib\\site-packages\\sklearn\\utils\\validation.py:2739: UserWarning: X does not have valid feature names, but LGBMClassifier was fitted with feature names\n",
      "  warnings.warn(\n"
     ]
    }
   ],
   "source": [
    "y_pred = randomized_search.predict(X_test)\n",
    "print('Метрика ROC-AUC на тестовых данных:', roc_auc_score(y_test, y_pred))"
   ]
  },
  {
   "cell_type": "markdown",
   "id": "13de9bba-25e2-4a76-9667-4e28c6ca4963",
   "metadata": {},
   "source": [
    "Показатель ROC-AUC лучшей модели на тестовых данных составил 0.90."
   ]
  },
  {
   "cell_type": "markdown",
   "id": "eb5afa8c-4ba3-434a-9fcd-32cce0369eaf",
   "metadata": {},
   "source": [
    "Проведем анализ важности признаков."
   ]
  },
  {
   "cell_type": "code",
   "execution_count": 47,
   "id": "9bf8038c-3b72-49d5-90b0-7e28f3d0265f",
   "metadata": {},
   "outputs": [
    {
     "name": "stderr",
     "output_type": "stream",
     "text": [
      " 99%|===================| 15133/15300 [00:34<00:00]        "
     ]
    },
    {
     "data": {
      "image/png": "[encoded data removed]",
      "text/plain": [
       "<Figure size 800x950 with 1 Axes>"
      ]
     },
     "metadata": {},
     "output_type": "display_data"
    }
   ],
   "source": [
    "X_train_2 = pipe_final.named_steps['preprocessor'].fit_transform(X_train)\n",
    "X_test_2 = pipe_final.named_steps['preprocessor'].transform(X_test)\n",
    "\n",
    "explainer = shap.Explainer(randomized_search.best_estimator_.named_steps['models'], X_train_2)\n",
    "\n",
    "feature_names = pipe_final.named_steps['preprocessor'].get_feature_names_out()\n",
    "\n",
    "X_test_2 = pd.DataFrame(X_test_2, columns=feature_names)\n",
    "shap_values = explainer(X_test_2)\n",
    "\n",
    "shap.plots.bar(shap_values, max_display=50)"
   ]
  },
  {
   "cell_type": "markdown",
   "id": "87e3b392-300b-46de-8820-ff541e97fca3",
   "metadata": {},
   "source": [
    "**Вывод:**  \n",
    "\n",
    "Самыми важными признаками оказались **num_open, num_purchase и num_hard_bounce**. Показатели важности данных признаков составили 0.76, 0.15 и 0.09 соответственно."
   ]
  },
  {
   "cell_type": "markdown",
   "id": "a811a3b5-19e1-43cc-8b60-190eb9fa4261",
   "metadata": {},
   "source": [
    "## Итоговый вывод  \n",
    "\n",
    "Нам было необходимо выполнить инженеринг признаков, обучить и оптимизировать модель бинарной классификации, которая предскажет вероятность совершения покупки пользователем в течение 90 дней.  \n",
    "\n",
    "**В ходе данного исследования мы сделали следующее:**  \n",
    "- Импортировали необходимые библиотеки и загрузили данные.  \n",
    "- Провели предобработку и исследовательский анализ данных.  \n",
    "- Разработали новые полезные признаки.  \n",
    "- Создали модель для классификации пользователей и получили довольно хорошие показатели метрики ROC-AUC на тренировочных и тестовых данных.  \n",
    "\n",
    "Самой лучшей моделью оказалась LGBMClassifier с параметрами n_estimators=250 и random_state=42 с показателем метрики ROC-AUC 0.89 на тренировочных данных и 0.90 на тестовых."
   ]
  }
 ],
 "metadata": {
  "kernelspec": {
   "display_name": "Python 3 (ipykernel)",
   "language": "python",
   "name": "python3"
  },
  "language_info": {
   "codemirror_mode": {
    "name": "ipython",
    "version": 3
   },
   "file_extension": ".py",
   "mimetype": "text/x-python",
   "name": "python",
   "nbconvert_exporter": "python",
   "pygments_lexer": "ipython3",
   "version": "3.13.2"
  }
 },
 "nbformat": 4,
 "nbformat_minor": 5
}
